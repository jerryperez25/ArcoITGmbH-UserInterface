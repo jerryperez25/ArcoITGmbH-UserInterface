{
 "cells": [
  {
   "cell_type": "markdown",
   "metadata": {},
   "source": [
    "# Arco-IT GmbH MQP User Interface"
   ]
  },
  {
   "cell_type": "markdown",
   "metadata": {
    "pycharm": {
     "name": "#%% md\n"
    }
   },
   "source": [
    "## This user interface will allow the user to:"
   ]
  },
  {
   "cell_type": "markdown",
   "metadata": {},
   "source": [
    "1. Import a data file to be analyzed (CSV)\n",
    "\n",
    "    1a. Have the user select how many rows they wish to see\n",
    "    \n",
    "    1b. Have the user select which rows they would like to omit\n",
    "2. Create tags, and application data for rule generation\n",
    "3. Generate Rules\n",
    "4. Approve, Deny, or modify generated rules"
   ]
  },
  {
   "cell_type": "markdown",
   "metadata": {},
   "source": [
    "\n",
    "**Welcome to the Arco IT GmbH Official User Interface!**\n",
    "\n",
    "**--------------------------------------------------------**\n",
    "\n",
    "**To proceed, please upload a CSV file for the device and rule tab**"
   ]
  },
  {
   "cell_type": "code",
   "execution_count": 1,
   "metadata": {
    "jupyter": {
     "source_hidden": true
    },
    "pycharm": {
     "name": "#%%\n"
    }
   },
   "outputs": [],
   "source": [
    "import ipywidgets as widgets\n",
    "from IPython.display import display\n",
    "import pandas as pd\n",
    "\n",
    "#This is where the file upload button will be created\n",
    "upload_inventory = widgets.FileUpload(\n",
    "    description = 'Upload CSV',\n",
    "    multiple = False,\n",
    "    accept = '.csv'\n",
    ")\n",
    "\n",
    "#This is where the file upload button will be created\n",
    "upload_flow_data = widgets.FileUpload(\n",
    "    description = 'Upload CSV',\n",
    "    multiple = False,\n",
    "    accept = '.csv'\n",
    ")\n",
    "#This is where the file upload button will be created\n",
    "upload_hostname_file = widgets.FileUpload(\n",
    "    description = 'Upload CSV',\n",
    "    multiple = False,\n",
    "    accept = '.csv'\n",
    ")\n",
    "application_list = []"
   ]
  },
  {
   "cell_type": "markdown",
   "metadata": {},
   "source": [
    "**There will be an interactive tab system that is configured for you to use. Each tab represents options for the desired mode, and has tools for those modes.**"
   ]
  },
  {
   "cell_type": "code",
   "execution_count": 28,
   "metadata": {
    "jupyter": {
     "source_hidden": true
    }
   },
   "outputs": [
    {
     "data": {
      "application/vnd.jupyter.widget-view+json": {
       "model_id": "3f19c4a9bd7043408cbd46cd1e5eab90",
       "version_major": 2,
       "version_minor": 0
      },
      "text/plain": [
       "Tab(children=(Accordion(children=(FileUpload(value={'sample_data.csv': {'metadata': {'name': 'sample_data.csv'…"
      ]
     },
     "metadata": {},
     "output_type": "display_data"
    }
   ],
   "source": [
    "## This will be a count to see if the CSV file has already been generated\n",
    "file_it_count = 0\n",
    "# --- Flow Data Slider and TextBox --\n",
    "flow_data_slider = widgets.IntSlider(\n",
    "    value=1,\n",
    "    min=1,\n",
    "    max= 2000,#find a better way to handle the upper bound here\n",
    "    step=1,\n",
    "    description='Rows:',\n",
    "    disabled=False,\n",
    "    continuous_update=False,\n",
    "    orientation='horizontal',\n",
    "    readout=True,\n",
    "    readout_format='d'\n",
    ")\n",
    "flow_text = widgets.IntText()\n",
    "widgets.jslink((flow_data_slider, 'value'), (flow_text, 'value'))\n",
    "#-----------------Flow Data Setup-----------------------------\n",
    "show_flow_data = widgets.Button(description = 'Show Flow Data')\n",
    "find_unkown_ips = widgets.Button(description = 'Find IPs')\n",
    "flow_data_output_area = widgets.Output()\n",
    "unkown_ips_output = widgets.Output()\n",
    "flow_data_accordion = widgets.Accordion(children=[upload_flow_data, widgets.HBox([widgets.VBox([flow_data_slider]), widgets.VBox([flow_text])])])\n",
    "flow_data_accordion.set_title(0, 'Import Flow Data')\n",
    "flow_data_accordion.set_title(1, 'Slider to Select How Many Rows You Would Like To See')\n",
    "flow_data_accordion\n",
    "#-----------------Asset Inventory Setup-----------------------------\n",
    "#This is a slider to select how many rows would like to be displayed\n",
    "slider_result = widgets.IntSlider(\n",
    "    value=1,\n",
    "    min=1,\n",
    "    max= 2000, #find a better way to handle the upper bound here\n",
    "    step=1,\n",
    "    description='Rows:',\n",
    "    disabled=False,\n",
    "    continuous_update=False,\n",
    "    orientation='horizontal',\n",
    "    readout=True,\n",
    "    readout_format='d'\n",
    ")\n",
    "link_text = widgets.IntText()\n",
    "widgets.jslink((slider_result, 'value'), (link_text, 'value'))\n",
    "#Creates the button for showing resulting CSV\n",
    "ip_address_area = widgets.Textarea(placeholder = \"Input the IP Address\",\n",
    "                        description = \"IP: \",\n",
    "                        disabled = False,\n",
    "                        layout = widgets.Layout(width='auto', height='auto'))#auto adjusts size\n",
    "hostname_area = widgets.Textarea(placeholder = \"Input the Hostname\",\n",
    "                        description = \"Hostname: \",\n",
    "                        disabled = False,\n",
    "                        layout = widgets.Layout(width='auto', height='auto'))#auto adjusts size\n",
    "asset_inventory_accordion = widgets.Accordion(children=[upload_inventory, widgets.HBox([widgets.VBox([slider_result]), widgets.VBox([link_text])]) ,widgets.HBox([widgets.VBox([ip_address_area]),\n",
    "                                                                      widgets.VBox([widgets.VBox([hostname_area]), widgets.HBox([upload_hostname_file])])])])\n",
    "asset_inventory_accordion.set_title(0, 'Import Asset Inventory Data')\n",
    "asset_inventory_accordion.set_title(1, 'Slider to Select How Many Rows You Would Like To See')\n",
    "asset_inventory_accordion.set_title(2, 'Hostname Configuration')\n",
    "asset_inventory_accordion\n",
    "\n",
    "#----------------------Device Setup-----------------\n",
    "\n",
    "show_csv_button = widgets.Button(description = 'Show CSV')\n",
    "\n",
    "asset_original_output_area = widgets.Output()\n",
    "device_dropped_output_area = widgets.Output()\n",
    "\n",
    "#Creates the text box for row omition\n",
    "deny_list_input = widgets.Textarea(placeholder = \"Separate the row values with commas\",\n",
    "                        description = \"Rows: \",\n",
    "                        disabled = False,\n",
    "                        layout = widgets.Layout(width='auto', height='40px'))#auto adjusts size\n",
    "ip_range_tag = widgets.Textarea(placeholder = \"Insert IP Address\",\n",
    "                        description = \"IP: \",\n",
    "                        disabled = False,\n",
    "                        layout = widgets.Layout(width='auto', height='40px'))#auto adjusts size\n",
    "tag_name = widgets.Textarea(placeholder = \"Insert the Tag Name\",\n",
    "                        description = \"Name: \",\n",
    "                        disabled = False,\n",
    "                        layout = widgets.Layout(width='auto', height='40px'))#auto adjusts size\n",
    "tag_description = widgets.Textarea(placeholder = \"Insert Tag Description\",\n",
    "                        description = \"Description: \",\n",
    "                        disabled = False,\n",
    "                        layout = widgets.Layout(width='auto', height='40px'))#auto adjusts size\n",
    "asset_inventory_updated_tag_output = widgets.Output()\n",
    "add_tag_button = widgets.Button(description = 'Add Tag')\n",
    "    \n",
    "#Creates the row drop button\n",
    "drop_rows_button = widgets.Button(description = 'Drop Rows')\n",
    "\n",
    "#generate the button for the graph\n",
    "asset_connection_button = widgets.Button(description = \"Generate Asset Connection Graph\",\n",
    "                                        layout = widgets.Layout(width='auto', height='40px'))\n",
    "\n",
    "device_accordion_one = widgets.Accordion(children=[upload_inventory, widgets.HBox([widgets.VBox([slider_result]), widgets.VBox([link_text])])])\n",
    "device_accordion_one.set_title(0, 'Import IP Inventory CSV')\n",
    "device_accordion_one.set_title(1, 'Slider For Selecting How Many Rows to View At Once')\n",
    "device_accordion_one\n",
    "#-----------------IP Range Setup-----------------------------\n",
    "#Creates the text box for IP Prefix\n",
    "ip_prefix_area = widgets.Textarea(placeholder = \"Input the IP Prefix\",\n",
    "                        description = \"IP Prefix: \",\n",
    "                        disabled = False,\n",
    "                        layout = widgets.Layout(width='auto', height='auto'))#auto adjusts size\n",
    "ip_values = [] #will be used to keep a store of ip's\n",
    "#Creates the text box for Tag Name\n",
    "range_name_area = widgets.Textarea(placeholder = \"Input the Range Name\",\n",
    "                        description = \"Name: \",\n",
    "                        disabled = False,\n",
    "                        layout = widgets.Layout(width='auto', height='auto'))#auto adjusts size\n",
    "#Creates the text box for Tag Description\n",
    "range_description_area = widgets.Textarea(placeholder = \"Input the Range Description\",\n",
    "                        description = \"Description: \",\n",
    "                        disabled = False,\n",
    "                        layout = widgets.Layout(width='auto', height='auto'))#auto adjusts size\n",
    "\n",
    "range_output_area = widgets.Output()\n",
    "row_tag_list =[]\n",
    "#Creates the row add button\n",
    "add_name = widgets.Button(description = 'Add')\n",
    "\n",
    "range_accordion_one = widgets.Accordion(children=[widgets.HBox([widgets.VBox([ip_prefix_area]),\n",
    "                                                                                widgets.VBox([range_name_area]),\n",
    "                                                                                widgets.VBox([range_description_area])])])\n",
    "\n",
    "range_accordion_one.set_title(0, 'Text Boxes for Range Configuration')\n",
    "range_accordion_one\n",
    "\n",
    "#-----------------Application Setup-----------------------------\n",
    "#Creates the text box for Port\n",
    "port_area = widgets.Textarea(placeholder = \"Input the Port Number\",\n",
    "                        description = \"Port: \",\n",
    "                        disabled = False,\n",
    "                        layout = widgets.Layout(width='auto', height='auto'))#auto adjusts size\n",
    "#Creates the dropdown for protocol\n",
    "protocol_dropdown = widgets.Dropdown(options = ['TCP', 'UDP'],\n",
    "                                     description = 'Protocol',\n",
    "                                    layout = widgets.Layout(width='auto', height='auto'))\n",
    "                                     \n",
    "#Creates the text box for App Name\n",
    "app_name_area = widgets.Textarea(placeholder = \"Input the Application Name\",\n",
    "                        description = \"Name: \",\n",
    "                        disabled = False,\n",
    "                        layout = widgets.Layout(width='auto', height='auto'))#auto adjusts size\n",
    "#Creates the text box for App Description\n",
    "app_description_area = widgets.Textarea(placeholder = \"Input the Application Description\",\n",
    "                        description = \"Description: \",\n",
    "                        disabled = False,\n",
    "                        layout = widgets.Layout(width='auto', height='auto'))#auto adjusts size\n",
    "app_output_area = widgets.Output()\n",
    "row_app_list =[]\n",
    "#Creates the row add button\n",
    "add_app = widgets.Button(description = 'Add')\n",
    "\n",
    "application_accordion_one = widgets.Accordion(children=[widgets.HBox([widgets.VBox([port_area]),\n",
    "                                                                      widgets.VBox([protocol_dropdown]),\n",
    "                                                                                widgets.VBox([app_name_area]),\n",
    "                                                                                widgets.VBox([app_description_area])])])\n",
    "\n",
    "application_accordion_one.set_title(0, 'Text Boxes for Application Configuration')\n",
    "application_accordion_one\n",
    "\n",
    "#-----------------Rule Setup-----------------------------\n",
    "#Creates the text box for Port\n",
    "order_num = widgets.Textarea(placeholder = \"Input the Order Preference\",\n",
    "                        description = \"Order: \",\n",
    "                        disabled = False,\n",
    "                        layout = widgets.Layout(width='auto', height='auto'))#auto adjusts size\n",
    "#Creates the dropdown for protocol\n",
    "application_name = widgets.Dropdown(options = application_list,\n",
    "                                     description = 'Application',\n",
    "                                    layout = widgets.Layout(width='auto', height='auto'))\n",
    "                                     \n",
    "#Creates the text box for Source Area\n",
    "source_text = widgets.Textarea(placeholder = \"Input the Source\",\n",
    "                        description = \"Source: \",\n",
    "                        disabled = False,\n",
    "                        layout = widgets.Layout(width='auto', height='auto'))#auto adjusts size\n",
    "#Creates the text box for Target Area\n",
    "target_area = widgets.Textarea(placeholder = \"Input the Target\",\n",
    "                        description = \"Target: \",\n",
    "                        disabled = False,\n",
    "                        layout = widgets.Layout(width='auto', height='auto'))#auto adjusts size\n",
    "#Creates the text box for Decision Dropdown\n",
    "decision_dropdown = widgets.Dropdown(options = ['Allow', 'Disallow'],\n",
    "                                     description = 'Decision',\n",
    "                                    layout = widgets.Layout(width='auto', height='auto'))\n",
    "#Creates the text box for Description Area\n",
    "description_area = widgets.Textarea(placeholder = \"Input the Description\",\n",
    "                        description = \"Description: \",\n",
    "                        disabled = False,\n",
    "                        layout = widgets.Layout(width='auto', height='auto'))#auto adjusts size\n",
    "rule_output_area = widgets.Output()\n",
    "row_rule_list =[]\n",
    "#Creates the row add button for rule\n",
    "add_rule = widgets.Button(description = 'Add')\n",
    "#Creates the row add button for rule (ML generated)\n",
    "add_ML_rule = widgets.Button(description = 'Auto Generate', layout = widgets.Layout(width='auto', height='auto'))\n",
    "\n",
    "left_box = widgets.HBox([application_name, source_text, target_area, decision_dropdown, description_area])\n",
    "#right_box = widgets.HBox([target_area, decision_dropdown, description_area])\n",
    "\n",
    "rule_accordion_one = widgets.Accordion(children=[widgets.VBox([left_box])])\n",
    "\n",
    "rule_accordion_one.set_title(0, 'Import Flow Data CSV')\n",
    "rule_accordion_one.set_title(1, 'Text Boxes for Rule Configuration')\n",
    "rule_accordion_one\n",
    "\n",
    "#------------------Phase 1 Tab-----------------------------------\n",
    "\n",
    "tab_nest = widgets.Tab()\n",
    "#The line right below this one has placeholders\n",
    "tab_nest.children = [flow_data_accordion, asset_inventory_accordion, range_accordion_one, application_accordion_one, rule_accordion_one]\n",
    "tab_nest.set_title(0, 'Flow Data')\n",
    "tab_nest.set_title(1, 'Asset Inventory')\n",
    "tab_nest.set_title(2, 'Range Options')\n",
    "tab_nest.set_title(3, 'Application Options')\n",
    "tab_nest.set_title(4, 'Rule Options')\n",
    "tab_nest\n"
   ]
  },
  {
   "cell_type": "code",
   "execution_count": 3,
   "metadata": {
    "jupyter": {
     "source_hidden": true
    }
   },
   "outputs": [],
   "source": [
    "#This is a workaround for the changing name script that is below\n",
    "ip_address_value = ip_address_area.value\n",
    "isitrange = '/'\n",
    "if(ip_address_value != '' and isitrange not in ip_address_area.value):\n",
    "    val = len(ip_address_area.value)\n",
    "    text = ip_address_value.split('.', 3)\n",
    "    ip_address_value = ip_address_area.value + '/' + text[3]\n",
    "    \n",
    "#print(ip_address_value)"
   ]
  },
  {
   "cell_type": "code",
   "execution_count": 4,
   "metadata": {
    "jupyter": {
     "source_hidden": true
    }
   },
   "outputs": [],
   "source": [
    "#-------Inventory--------- checking if there is a file imported\n",
    "#this takes the resulting dictionary and assigns it to a variable \n",
    "uploaded_file_val = upload_inventory.value\n",
    "if(len(uploaded_file_val) == 0):\n",
    "    raise Exception(\"You must input a file\")\n",
    "#show that variable\n",
    "#uploaded_file_val"
   ]
  },
  {
   "cell_type": "code",
   "execution_count": 5,
   "metadata": {
    "jupyter": {
     "source_hidden": true
    }
   },
   "outputs": [],
   "source": [
    "#-------Flow Data--------- checking if there is a file imported\n",
    "#this takes the resulting dictionary and assigns it to a variable \n",
    "uploaded_file_val_fd = upload_flow_data.value\n",
    "if(len(uploaded_file_val_fd) == 0):\n",
    "    raise Exception(\"You must input a file\")\n",
    "#show that variable\n",
    "#uploaded_file_val_fd"
   ]
  },
  {
   "cell_type": "code",
   "execution_count": 6,
   "metadata": {
    "jupyter": {
     "source_hidden": true
    }
   },
   "outputs": [],
   "source": [
    "#-------Inventory--------- obtaining the right file\n",
    "#access whats important\n",
    "file_name = next(iter(uploaded_file_val))\n",
    "#we get the first element in the dictionary\n",
    "uploaded_file_content = uploaded_file_val[file_name]['content']\n",
    "#uploaded_file_content"
   ]
  },
  {
   "cell_type": "code",
   "execution_count": 7,
   "metadata": {
    "jupyter": {
     "source_hidden": true
    }
   },
   "outputs": [],
   "source": [
    "#-------Flow Data--------- obtaining the right file\n",
    "#access whats important\n",
    "file_name_fd = next(iter(uploaded_file_val_fd))\n",
    "#we get the first element in the dictionary\n",
    "uploaded_file_content_fd = uploaded_file_val_fd[file_name_fd]['content']\n",
    "#uploaded_file_content_fd"
   ]
  },
  {
   "cell_type": "code",
   "execution_count": 8,
   "metadata": {
    "jupyter": {
     "source_hidden": true
    }
   },
   "outputs": [],
   "source": [
    "#-------Inventory--------- converting from bytes to string\n",
    "import codecs\n",
    "#decodes from bytes to list and splits the data accordingly\n",
    "data = uploaded_file_content.decode('utf-8').splitlines()\n",
    "#below line removes quotes from decoding by iterating through list\n",
    "data = [i.replace('\"', ' ') for i in data]\n",
    "\n",
    "#data"
   ]
  },
  {
   "cell_type": "code",
   "execution_count": 9,
   "metadata": {
    "jupyter": {
     "source_hidden": true
    }
   },
   "outputs": [],
   "source": [
    "#-------Flow Data--------- convert bytes to string\n",
    "#decodes from bytes to list and splits the data accordingly\n",
    "data_fd = uploaded_file_content_fd.decode('utf-8').splitlines()\n",
    "#below line removes quotes from decoding by iterating through list\n",
    "data_fd = [i.replace('\"', ' ') for i in data_fd]\n",
    "#data_fd"
   ]
  },
  {
   "cell_type": "code",
   "execution_count": 10,
   "metadata": {
    "jupyter": {
     "source_hidden": true
    }
   },
   "outputs": [],
   "source": [
    "#-------Inventory--------- creates the inventory data CSV\n",
    "import csv\n",
    "import re\n",
    "\n",
    "if(file_it_count == 0):\n",
    "#This creates a csv file within the directory that has the original data\n",
    "    with open(\"inventory_data.csv\", \"w\") as csv_file:\n",
    "        writer = csv.writer(csv_file, delimiter = '\\t')\n",
    "        for line in data:\n",
    "            writer.writerow(re.split('\\s+, ',line))\n",
    "    #remove the columns that don't really matter        \n",
    "    drop_column_inventory = pd.read_csv('inventory_data.csv')\n",
    "    drop_column_inventory = drop_column_inventory.drop(['Fix license','Full IP'], axis = 1)\n",
    "    drop_column_inventory.to_csv('inventory_data.csv', index = False)"
   ]
  },
  {
   "cell_type": "code",
   "execution_count": 11,
   "metadata": {
    "jupyter": {
     "source_hidden": true
    }
   },
   "outputs": [],
   "source": [
    "#-------Flow Data--------- creates the flow data CSV\n",
    "#This creates a csv file within the directory that has the original data\n",
    "if(file_it_count == 0): #this if statement ensures the file isnt created everytime\n",
    "    with open(\"flow_data.csv\", \"w\") as csv_file:\n",
    "        writer = csv.writer(csv_file, delimiter = '\\t')\n",
    "        for line in data_fd:\n",
    "            writer.writerow(re.split('\\s+,',line))\n",
    "    #drop the stuff that might not be important        \n",
    "    drop_column_flows = pd.read_csv('flow_data.csv')\n",
    "    drop_column_flows = drop_column_flows.drop(['Packets','Bytes', 'Packets A -> B', 'Packets B -> A',\n",
    "                                               'Bytes A -> B', 'Bytes B -> A', 'Rel Start',\n",
    "                                               'Duration','Bits/s A -> B', 'Bits/s B -> A' ], axis = 1)\n",
    "    drop_column_flows.to_csv('flow_data.csv', index = False)"
   ]
  },
  {
   "cell_type": "code",
   "execution_count": 12,
   "metadata": {
    "jupyter": {
     "source_hidden": true
    }
   },
   "outputs": [],
   "source": [
    "#-------Inventory---------\n",
    "#This gets the number of rows within the CSV\n",
    "with open('inventory_data.csv') as counter:\n",
    "    row_counter_with_header = sum(1 for line in counter)\n",
    "row_counter_without_header = row_counter_with_header-1"
   ]
  },
  {
   "cell_type": "code",
   "execution_count": 13,
   "metadata": {
    "jupyter": {
     "source_hidden": true
    }
   },
   "outputs": [],
   "source": [
    "#-------Flow Data---------\n",
    "#This gets the number of rows within the CSV\n",
    "with open('flow_data.csv') as counter:\n",
    "    row_counter_with_header_fd = sum(1 for line in counter)\n",
    "row_counter_without_header_fd = row_counter_with_header_fd-1"
   ]
  },
  {
   "cell_type": "code",
   "execution_count": 14,
   "metadata": {
    "jupyter": {
     "source_hidden": true
    }
   },
   "outputs": [],
   "source": [
    "#-------Hostname Data--------- this gets the file val if there is a file\n",
    "uploaded_file_val_hostname = upload_hostname_file.value\n",
    "if(len(uploaded_file_val_hostname) != 0):\n",
    "    hostname_file_name = next(iter(uploaded_file_val_hostname))\n",
    "    #we get the first element in the dictionary\n",
    "    hostname_uploaded_file_content = uploaded_file_val_hostname[hostname_file_name]['content']\n",
    "    data_hostname = hostname_uploaded_file_content.decode('utf-8').splitlines()\n",
    "    #below line removes quotes from decoding by iterating through list\n",
    "    data_hostname = [i.replace('\"', ' ') for i in data_hostname]\n",
    "    with open(\"hostname.csv\", \"w\") as csv_file:\n",
    "        writer = csv.writer(csv_file, delimiter = '\\t')\n",
    "        for line in data_hostname:\n",
    "            writer.writerow(re.split('\\s+,',line))\n",
    "    hostname_csv = pd.read_csv('hostname.csv')\n",
    "    drop_column_inventory[\"Hostname\"] = \"\"\n",
    "    for index in hostname_csv.index:\n",
    "        for sec_index in drop_column_inventory.index:\n",
    "            if(hostname_csv.loc[index, \"IP Address\"] == drop_column_inventory.loc[sec_index, \"LAN IP Address\"]):\n",
    "                drop_column_inventory.loc[sec_index, \"Hostname\"] = hostname_csv.loc[index, \"Host Name\"]\n",
    "drop_column_inventory.to_csv('inventory_data.csv', index = False)\n",
    "#data_hostname"
   ]
  },
  {
   "cell_type": "code",
   "execution_count": 15,
   "metadata": {
    "jupyter": {
     "source_hidden": true
    }
   },
   "outputs": [],
   "source": [
    "#------Determines the Number of Matched Devices---------\n",
    "List_IPs=[] #this is what tells us which IP's are matched\n",
    "def number_devices(iprange):\n",
    "    ##first take in the IP range\n",
    "    df= pd.read_csv(r'flow_data.csv')\n",
    "    check= re.sub('/',\"\",iprange)\n",
    "    min = re.sub('\\/.*$',\"\",iprange)\n",
    "    min = re.sub('.\\\\d{0,3}.\\\\d{0,3}\\\\d{0,3}\\\\.\\\\d{0,3}.',\"\",min)\n",
    "    max=re.sub('^.*?/', '', iprange)\n",
    "\n",
    "    if int(min)>int(max) or int(max)>255 or int(min)<0:\n",
    "        print(\"Invalid. Range can only be from 0-255\")\n",
    "        return\n",
    "\n",
    "    check = re.sub('\\\\.\\\\d+$',\"\",check)\n",
    "    List_devices= []\n",
    "    FinalList_all = []\n",
    "    count=0\n",
    "    for (columnName, columnData) in df.iteritems():\n",
    "        \n",
    "        if('Address' in columnName):\n",
    "            for i in range(len(df[columnName])):\n",
    "                if check in df[columnName].iloc[i] and len(check)==len(re.sub('\\\\.\\\\d+$',\"\",df[columnName].iloc[i])):\n",
    "                    curr_val= re.sub('.\\\\d{1,3}.\\\\d{1,3}\\\\d{1,3}\\\\.\\\\d{1,3}.',\"\",df[columnName].iloc[i])\n",
    "                    \n",
    "                    if int(curr_val)>=int(min) and int(curr_val)<=int(max):\n",
    "                        \n",
    "                        FinalList_all.append(df[columnName].iloc[i])\n",
    "                        if(df[columnName].iloc[i] not in List_IPs):\n",
    "                            List_IPs.append(df[columnName].iloc[i])\n",
    "                        \n",
    "                        for(name,data)in df.iteritems():\n",
    "                            if('Device' in name) :\n",
    "                                count+=1\n",
    "                                if(df[name].iloc[i] not in List_devices):\n",
    "                                    List_devices.append(df[name].iloc[i])\n",
    "    \n",
    "    return len(FinalList_all)\n"
   ]
  },
  {
   "cell_type": "code",
   "execution_count": 16,
   "metadata": {
    "jupyter": {
     "source_hidden": true
    }
   },
   "outputs": [],
   "source": [
    "#--------Adds Hostname Column to Dataframe--------\n",
    "def assign_names(iprange,Name):\n",
    "\n",
    "    min = re.sub('\\/.*$', \"\", iprange)\n",
    "    min = re.sub('.\\\\d{0,3}.\\\\d{0,3}\\\\d{0,3}\\\\.\\\\d{0,3}.', \"\", min)\n",
    "    max = re.sub('^.*?/', '', iprange)\n",
    "    \n",
    "    if int(min)>=256 or int(max) >=256 or int(min) <0 or int(max)<0 or int(min)>int(max):\n",
    "        #print('Invalid Arguments, a valid range is between 0-256')\n",
    "        return\n",
    "    prefix = re.sub('/', \"\", iprange)\n",
    "    prefix= re.sub('\\\\.\\\\d+$',\"\",prefix)\n",
    "\n",
    "    df=pd.read_csv('inventory_data.csv')\n",
    "\n",
    "    if \"Hostname\" not in df:\n",
    "        df['Hostname']=\"\"\n",
    "        \n",
    "    for name,data in df.iteritems():\n",
    "        if 'Address' in name or 'IP'in name and 'B'not in name:\n",
    "            for x in range(len(df[name])):\n",
    "                if prefix in df[name].iloc[x] and len(prefix)==len(re.sub('\\\\.\\\\d+$',\"\",df[name].iloc[x])):\n",
    "                    curr_min = re.sub('\\/.*$', \"\", df[name].iloc[x])\n",
    "                    curr_min = re.sub('.\\\\d{0,3}.\\\\d{0,3}\\\\d{0,3}\\\\.\\\\d{0,3}.', \"\", curr_min)\n",
    "\n",
    "                    if int(curr_min)<=int(max) and int(curr_min)>=int(min):\n",
    "                        df[\"Hostname\"].iloc[x]=Name\n",
    "    return df\n",
    "\n",
    "pd.options.mode.chained_assignment = None  # default='warn'\n",
    "#since we create a csv for the data, we dont want this to be written over so we use an incrementor\n",
    "file_it_count = file_it_count + 1\n",
    "#writes over the fresh CSV with updated data - if there are values for them\n",
    "if(ip_address_value != '' or hostname_area.value != ''):\n",
    "    modified_csv = assign_names(ip_address_value,hostname_area.value).to_csv('inventory_data.csv', index = False)"
   ]
  },
  {
   "cell_type": "code",
   "execution_count": 17,
   "metadata": {
    "jupyter": {
     "source_hidden": true
    }
   },
   "outputs": [],
   "source": [
    "#------------Creates the CSV for ranges------------------\n",
    "from IPython.display import display, clear_output\n",
    "\n",
    "header = ['IP-Prefixes', 'Name', 'Description', 'Matched Devices']\n",
    "\n",
    "if ((len(ip_prefix_area.value) != 0)\n",
    "    or (len(range_name_area.value) != 0)\n",
    "    or (len(range_description_area.value) != 0)):\n",
    "    row_tag_list.append([ip_prefix_area.value, range_name_area.value, range_description_area.value,number_devices(ip_prefix_area.value)])\n",
    "    \n",
    "    #--Tag CSV--   \n",
    "    def add_range_row(a):\n",
    "        with open(\"ip_range.csv\", \"w\", newline='') as f:\n",
    "            tag_writer = csv.writer(f, delimiter=',')\n",
    "            tag_writer.writerow(header) # write header\n",
    "            for lines in row_tag_list:\n",
    "                tag_writer.writerow(lines)\n",
    "        with range_output_area:\n",
    "            clear_output()\n",
    "            count = 0\n",
    "            tag_classification_csv = pd.read_csv('ip_range.csv')\n",
    "            tag_classification_csv.dropna()\n",
    "            display(tag_classification_csv)\n",
    "    #----button click----\n",
    "    add_name.on_click(add_range_row)\n",
    "    \n",
    "#print(List_IPs)"
   ]
  },
  {
   "cell_type": "code",
   "execution_count": 18,
   "metadata": {
    "jupyter": {
     "source_hidden": true
    }
   },
   "outputs": [],
   "source": [
    "#------------Creates the CSV for applications------------------\n",
    "\n",
    "app_header = ['Port', 'Protocol', 'Name', 'Description']\n",
    "\n",
    "if((len(port_area.value)!=0)\n",
    "   or (len(app_name_area.value) != 0)\n",
    "   or (len(app_description_area.value) != 0)):\n",
    "    row_app_list.append([port_area.value, protocol_dropdown.value, app_name_area.value, app_description_area.value])\n",
    "    application_list.append(app_name_area.value)\n",
    "    #--App CSV--\n",
    "    def add_app_row(a):\n",
    "        #this creates a new csv for the applications that the user creates\n",
    "        with open(\"applications.csv\", \"w\", newline='') as f:\n",
    "            app_writer = csv.writer(f, delimiter=',')\n",
    "            app_writer.writerow(app_header) # write header\n",
    "            for lines in row_app_list:\n",
    "                app_writer.writerow(lines)\n",
    "        with app_output_area:\n",
    "            #clear the previous output\n",
    "            clear_output()\n",
    "            applications_csv = pd.read_csv('applications.csv')\n",
    "            #drop all NaN data\n",
    "            applications_csv.dropna()\n",
    "            display(applications_csv)\n",
    "    #----button click----\n",
    "    add_app.on_click(add_app_row)"
   ]
  },
  {
   "cell_type": "code",
   "execution_count": 19,
   "metadata": {
    "jupyter": {
     "source_hidden": true
    }
   },
   "outputs": [],
   "source": [
    "#------------Creates the CSV for rules------------------\n",
    "from IPython.display import display, clear_output\n",
    "\n",
    "\n",
    "row_header = ['Application', 'Source', 'Target', 'Decision', 'Name']\n",
    "\n",
    "if((len(order_num.value)!=0)\n",
    "   or (len(source_text.value)!=0)\n",
    "   or (len(target_area.value)!=0)\n",
    "   or (len(description_area.value)!=0)):\n",
    "    row_rule_list.append([application_name.value, source_text.value, target_area.value,\n",
    "                     decision_dropdown.value, description_area.value])\n",
    "    #--Rule CSV--\n",
    "    def add_rule_row(a):  \n",
    "        #creates a CSV where the user generated rules will live\n",
    "        with open(\"rules.csv\", \"w\", newline='') as f:\n",
    "            rule_writer = csv.writer(f, delimiter=',')\n",
    "            rule_writer.writerow(row_header) # write header\n",
    "            for lines in row_rule_list:\n",
    "                rule_writer.writerow(lines)\n",
    "        with rule_output_area:\n",
    "            clear_output()\n",
    "            rule_csv = pd.read_csv('rules.csv')\n",
    "            #drop all NaN data\n",
    "            rule_csv.dropna()\n",
    "            display(rule_csv)\n",
    "    #----button click----\n",
    "    add_rule.on_click(add_rule_row)"
   ]
  },
  {
   "cell_type": "code",
   "execution_count": 20,
   "metadata": {
    "jupyter": {
     "source_hidden": true
    }
   },
   "outputs": [],
   "source": [
    "#------------Creates the CSV for Machine Learning rules------------------"
   ]
  },
  {
   "cell_type": "code",
   "execution_count": 21,
   "metadata": {
    "jupyter": {
     "source_hidden": true
    }
   },
   "outputs": [],
   "source": [
    "#---------Asset Inventory------- shows the asset inventory and creates a list of tags\n",
    "import numpy as np\n",
    "\n",
    "original_csv = pd.read_csv('inventory_data.csv', skiprows = range(1,(row_counter_with_header - slider_result.value)))\n",
    "\n",
    "def show_csv(b):\n",
    "    original_csv = pd.read_csv('inventory_data.csv', skiprows = range(1,(row_counter_with_header - slider_result.value)))\n",
    "    #Takes away all NaN\n",
    "    original_csv = original_csv.replace(np.nan, '', regex = True)\n",
    "    #iterate through rows\n",
    "    for index in original_csv.index:\n",
    "        stringer = original_csv.loc[index,'Comment']\n",
    "        if(\"/\" in stringer):\n",
    "            original_csv.loc[index,'Comment'] = original_csv.loc[index,'Plant Area'] + \", \" + stringer.replace(\"/\", \", \")\n",
    "        else:\n",
    "            original_csv.loc[index,'Comment'] = original_csv.loc[index,'Plant Area'] + \", \" + stringer\n",
    "    \n",
    "    original_csv = original_csv.rename(columns = {\"Comment\": \"Tags\"})\n",
    "    original_csv.to_csv('inventory_data.csv')\n",
    "    with asset_original_output_area:\n",
    "        clear_output()\n",
    "        display(original_csv)\n",
    "\n",
    "show_csv_button.on_click(show_csv)\n",
    "#print(\"Use the slider above to select how many rows of data you would like to see then click on the devices button up top.\")"
   ]
  },
  {
   "cell_type": "code",
   "execution_count": 22,
   "metadata": {
    "jupyter": {
     "source_hidden": true
    }
   },
   "outputs": [],
   "source": [
    "#---------Flow Data------- shows the flow data\n",
    "\n",
    "original_flow_data = pd.read_csv('flow_data.csv', skiprows = range(1,(row_counter_with_header_fd - flow_data_slider.value)))\n",
    "\n",
    "def show_flow(b):\n",
    "    original_flow_data = pd.read_csv('flow_data.csv', skiprows = range(1,(row_counter_with_header_fd - flow_data_slider.value)))\n",
    "    with flow_data_output_area:\n",
    "        clear_output()\n",
    "        display(original_flow_data)\n",
    "\n",
    "show_flow_data.on_click(show_flow)\n",
    "#print(\"Use the slider above to select how many rows of data you would like to see then click on the devices button up top.\")"
   ]
  },
  {
   "cell_type": "code",
   "execution_count": 23,
   "metadata": {
    "jupyter": {
     "source_hidden": true
    }
   },
   "outputs": [],
   "source": [
    "#---------Flow Data------- finds unkown IP Addresses\n",
    "\n",
    "flow_data = pd.read_csv('flow_data.csv', header=0)\n",
    "ip_data = pd.read_csv('inventory_data.csv', header=0, index_col=0)\n",
    "\n",
    "def find_unknowns(address_name, unknowns):\n",
    "    for ip in flow_data[address_name]:\n",
    "        try:\n",
    "            ip_data.at[ip, col_name]\n",
    "        except:\n",
    "            if ip in unknowns:\n",
    "                unknowns[ip] = unknowns[ip] + 1\n",
    "            else:\n",
    "                unknowns[ip] = 1\n",
    "\n",
    "unknown_ips = {}\n",
    "find_unknowns('Address A', unknown_ips)\n",
    "find_unknowns('Address B', unknown_ips)\n",
    "\n",
    "output_data = []\n",
    "for k, v in unknown_ips.items():\n",
    "    output_data.append([k, v])\n",
    "output_data = pd.DataFrame(output_data, columns=['IP Address', 'Occurrences'])\n",
    "output_data = output_data.sort_values(by=['Occurrences'], ascending=False)\n",
    "output_data.to_csv('unkown_ips')\n",
    "\n",
    "def show_unknowns(b):\n",
    "    with unkown_ips_output:\n",
    "        clear_output()\n",
    "        print(\"If this space is empty, that means each IP in the asset inventory has a corresponding site.\")\n",
    "        for row in output_data.index:\n",
    "            if(output_data.loc[row,'Occurrences'] == 0):\n",
    "                display(output_data.loc[row, 'IP Address'])\n",
    "        #display(output_data)\n",
    "\n",
    "find_unkown_ips.on_click(show_unknowns)\n"
   ]
  },
  {
   "cell_type": "code",
   "execution_count": 24,
   "metadata": {
    "jupyter": {
     "source_hidden": true
    }
   },
   "outputs": [],
   "source": [
    "#display(drop_rows_button)\n",
    "#drop rows flow \n",
    "original_flow_data = pd.read_csv('flow_data.csv', skiprows = range(1,(row_counter_with_header_fd - flow_data_slider.value)))\n",
    "def drop_rows(a):\n",
    "    if(deny_list[0]==''):\n",
    "        raise Exception(\"This button cannot be used if there is no text input.\")\n",
    "    #drop the selected rows from the dataset\n",
    "    with device_dropped_output_area:\n",
    "        clear_output()\n",
    "        original_flow_data.drop(original_flow_data.index[deny_list_ints], inplace = True)\n",
    "        display(original_flow_data)\n",
    "\n",
    "drop_rows_button.on_click(drop_rows)"
   ]
  },
  {
   "cell_type": "code",
   "execution_count": 25,
   "metadata": {
    "jupyter": {
     "source_hidden": true
    }
   },
   "outputs": [],
   "source": [
    "#This creates another csv file within the directory that has the modified data\n",
    "#with open(\"inventory_data.csv\", \"w\") as csv_file:\n",
    "#    writer = csv.writer(csv_file, delimiter = '\\t')\n",
    "#    for line in data:\n",
    "#        writer.writerow(re.split('\\s+,',line))"
   ]
  },
  {
   "cell_type": "code",
   "execution_count": 26,
   "metadata": {
    "jupyter": {
     "source_hidden": true
    }
   },
   "outputs": [],
   "source": [
    "#Imports for connection graph\n",
    "import pandas as pd\n",
    "import networkx as nx\n",
    "import matplotlib.pyplot as plt\n",
    "from matplotlib.axes._axes import _log as matplotlib_axes_logger\n",
    "\n",
    "#display(asset_connection_button)\n",
    "\n",
    "def generate_asset_connection_graph(b):\n",
    "    matplotlib_axes_logger.setLevel('ERROR')\n",
    "\n",
    "    common_port_cutoff = 1024\n",
    "\n",
    "    flow_data = pd.read_csv('flow_data.csv', header=0)\n",
    "    ip_data = pd.read_csv('inventory_data.csv', header=0, index_col=0)\n",
    "\n",
    "    def map_ips_to_col(address_name, col_name):\n",
    "        site_list = []\n",
    "        for ip in flow_data[address_name]:\n",
    "            try:\n",
    "                name = ip_data.at[ip, col_name]\n",
    "                site_list.append(name)\n",
    "            except:\n",
    "                site_list.append(pd.NaT)\n",
    "        return pd.DataFrame(site_list, columns=[address_name])\n",
    "\n",
    "    site_a = map_ips_to_col('Address A', 'Plant Area')\n",
    "    site_b = map_ips_to_col('Address B', 'Plant Area')\n",
    "    port_a = flow_data['Port A']\n",
    "    port_b = flow_data['Port B']\n",
    "\n",
    "    data = pd.concat([site_a, port_a, site_b, port_b], 1)\n",
    "    data = data.dropna()\n",
    "\n",
    "    #print('Data loaded')\n",
    "\n",
    "    main_graph = {}\n",
    "    for i, d in data.iterrows():\n",
    "        ports = []\n",
    "        if d['Port A'] <= common_port_cutoff:\n",
    "            ports.append(d['Port A'])\n",
    "        if d['Port B'] <= common_port_cutoff:\n",
    "            ports.append(d['Port B'])\n",
    "        if d['Address A'] in main_graph:\n",
    "            connections = main_graph[d['Address A']]\n",
    "            if d['Address B'] in connections:\n",
    "                used_ports = connections[d['Address B']]\n",
    "                for p in ports:\n",
    "                    if not p in used_ports:\n",
    "                        used_ports.append(p)\n",
    "            elif len(ports) > 0:\n",
    "                connections[d['Address B']] = ports\n",
    "        elif len(ports) > 0:\n",
    "            main_graph[d['Address A']] = {d['Address B']: ports}\n",
    "\n",
    "    #print('Main graph created')\n",
    "\n",
    "    inter_graph = {}\n",
    "    ip_a = flow_data['Address A']\n",
    "    ip_b = flow_data['Address B']\n",
    "    for i in range(site_a.shape[0]):\n",
    "        site_a_i = site_a['Address A'][i]\n",
    "        ports = []\n",
    "        if port_a[i] <= common_port_cutoff:\n",
    "            ports.append(port_a[i])\n",
    "        if port_b[i] <= common_port_cutoff:\n",
    "            ports.append(port_b[i])\n",
    "        if site_a_i == site_b['Address B'][i]:\n",
    "            ip_a_i = ip_a[i]\n",
    "            ip_b_i = ip_b[i]\n",
    "            if site_a_i in inter_graph:\n",
    "                if ip_a_i in inter_graph[site_a_i]:\n",
    "                    if ip_b_i in inter_graph[site_a_i][ip_a_i]:\n",
    "                        used_ports = inter_graph[site_a_i][ip_a_i][ip_b_i]\n",
    "                        for p in ports:\n",
    "                            if not p in used_ports:\n",
    "                                used_ports.append(p)\n",
    "                    elif len(ports) > 0:\n",
    "                        inter_graph[site_a_i][ip_a_i][ip_b_i] = ports\n",
    "                elif len(ports) > 0:\n",
    "                    inter_graph[site_a_i][ip_a_i] = {ip_b_i: ports}\n",
    "            elif len(ports) > 0:\n",
    "                inter_graph[site_a_i] = {ip_a_i: {ip_b_i: ports}}\n",
    "\n",
    "    #print('Internal graphs created')\n",
    "\n",
    "    def formate_node_label(label):\n",
    "        if label == 'Other ProcN Devices':\n",
    "            return 'Other ProcN\\n Devices'\n",
    "        if label == 'EAF Dust Washing':\n",
    "            return 'EAF Dust\\nWashing'\n",
    "        return label\n",
    "\n",
    "    def plot_graph(graph_name, graph, fig_size):\n",
    "        vis_graph = nx.DiGraph()\n",
    "        edge_labels = {}\n",
    "        for k0, v0 in graph.items():\n",
    "            for k1, v1 in v0.items():\n",
    "                if k0 != k1:\n",
    "                    if len(v1) > 0:\n",
    "                        vis_graph.add_edge(k1, k0)\n",
    "                        edge_labels[(k0, k1)] = ', '.join(map(str, v1))\n",
    "\n",
    "        pos = nx.kamada_kawai_layout(vis_graph)\n",
    "        fig = plt.figure(figsize=fig_size, dpi=300)\n",
    "        nx.draw(vis_graph, pos, node_size=5500, node_color=[0.9,0.9,0.9], labels={node:formate_node_label(str(node)) for node in vis_graph.nodes()}, font_size=10, edgecolors='black')\n",
    "        nx.draw_networkx_edge_labels(vis_graph, pos, edge_labels=edge_labels)\n",
    "\n",
    "        plt.savefig('output/asset_connection_' + graph_name + '.png')\n",
    "\n",
    "    plot_graph('Main', main_graph, (9, 9))\n",
    "    #print('Plotted main graph')\n",
    "\n",
    "    for site, connections in inter_graph.items():\n",
    "        plot_graph(site, connections, (7, 7))\n",
    "        #print('Plotted ' + site + ' internal graph')\n",
    "    \n",
    "asset_connection_button.on_click(generate_asset_connection_graph)\n"
   ]
  },
  {
   "cell_type": "markdown",
   "metadata": {},
   "source": [
    "**Keep in mind, the text box numbers have to be separated with commas and they follow 0 based indexxing. So, typing 0 into the box aims to eliminate the first row of the CSV, typing 1 aims for the second row, so on and so fourth.**"
   ]
  },
  {
   "cell_type": "code",
   "execution_count": 27,
   "metadata": {
    "jupyter": {
     "source_hidden": true
    }
   },
   "outputs": [
    {
     "data": {
      "application/vnd.jupyter.widget-view+json": {
       "model_id": "2e791f906ad944e2a68144f5293e916c",
       "version_major": 2,
       "version_minor": 0
      },
      "text/plain": [
       "Tab(children=(Accordion(children=(Button(description='Show Flow Data', style=ButtonStyle()), Output(), Button(…"
      ]
     },
     "metadata": {},
     "output_type": "display_data"
    }
   ],
   "source": [
    "#-----------------Flow Data Setup-----------------------------\n",
    "flow_data_accordion_two = widgets.Accordion(children=[show_flow_data, flow_data_output_area,\n",
    "                                                      find_unkown_ips, unkown_ips_output, deny_list_input])\n",
    "flow_data_accordion_two.set_title(0, 'Show Flow Data')\n",
    "flow_data_accordion_two.set_title(1, 'Flow Data Output Area')\n",
    "flow_data_accordion_two.set_title(2, 'Find Unkown IP Addresses')\n",
    "flow_data_accordion_two.set_title(3, 'Unknown IP Output Area')\n",
    "flow_data_accordion_two.set_title(4, 'Text Box To Remove Rows')\n",
    "flow_data_accordion_two\n",
    "\n",
    "#------------------Asset Inventory Setup----------\n",
    "tag_create = widgets.HBox([ip_range_tag, tag_name, tag_description])\n",
    "asset_inventory_accordion_two = widgets.Accordion(children=[show_csv_button, asset_original_output_area, tag_create])\n",
    "asset_inventory_accordion_two.set_title(0, 'Button To Show the Resulting CSV')\n",
    "asset_inventory_accordion_two.set_title(1, 'Asset CSV Output Area')\n",
    "asset_inventory_accordion_two.set_title(2, 'Tag Creation Area')\n",
    "asset_inventory_accordion_two\n",
    "#------------------IP Range Setup----------\n",
    "range_accordion_two = widgets.Accordion(children=[add_name, range_output_area])\n",
    "\n",
    "range_accordion_two.set_title(0, 'Button to Add Range and Show Resulting CSV')\n",
    "range_accordion_two.set_title(1, 'IP Range CSV Output Area')\n",
    "range_accordion_two\n",
    "tab_nest = widgets.Tab()\n",
    "#------------------Application Setup----------\n",
    "application_accordion_two = widgets.Accordion(children=[add_app, app_output_area])\n",
    "\n",
    "application_accordion_two.set_title(0, 'Button to Add Application and Show Resulting CSV')\n",
    "application_accordion_two.set_title(1, 'Application CSV Output Area')\n",
    "application_accordion_two\n",
    "#------------------Rule Setup----------\n",
    "rule_accordion_two = widgets.Accordion(children=[add_rule,rule_output_area, add_ML_rule])\n",
    "\n",
    "rule_accordion_two.set_title(0, 'Button to Add Rule and Show Resulting CSV')\n",
    "rule_accordion_two.set_title(1, 'Created Rule CSV Output Area')\n",
    "rule_accordion_two.set_title(2, 'Button to Add Machine Learning Rules and Show Resulting CSV')\n",
    "rule_accordion_two.set_title(3, 'Machine Learning Generated CSV Output Area')\n",
    "rule_accordion_two\n",
    "#-----------------Tab Creation----------------\n",
    "tab_nest = widgets.Tab()\n",
    "#The line right below this one has placeholders\n",
    "tab_nest.children = [flow_data_accordion_two, asset_inventory_accordion_two, range_accordion_two, application_accordion_two, rule_accordion_two]\n",
    "tab_nest.set_title(0, 'Flow Data')\n",
    "tab_nest.set_title(1, 'Asset Inventory')\n",
    "tab_nest.set_title(2, 'Range Options')\n",
    "tab_nest.set_title(3, 'Application Options')\n",
    "tab_nest.set_title(4, 'Rule Options')\n",
    "tab_nest"
   ]
  },
  {
   "cell_type": "code",
   "execution_count": 29,
   "metadata": {
    "jupyter": {
     "source_hidden": true
    }
   },
   "outputs": [],
   "source": [
    "#tester = original_csv.merge(inventory, on=\"name\")\n",
    "if(deny_list_input.value!=''):\n",
    "    #separate variables\n",
    "    deny_list = deny_list_input.value.split(\",\")\n",
    "    #convert into integers\n",
    "    deny_list_ints = [int(i) for i in deny_list]\n",
    "    #deny_list_ints #this just shows what the contents are\n",
    "else:\n",
    "    deny_list = deny_list_input.value.split(\",\")\n",
    "    deny_list_ints =[0]"
   ]
  },
  {
   "cell_type": "code",
   "execution_count": 30,
   "metadata": {
    "jupyter": {
     "source_hidden": true
    }
   },
   "outputs": [],
   "source": [
    "#---------Tag Creation------- \n",
    "\n",
    "added_tag_csv = pd.read_csv('inventory_data.csv')\n",
    "\n",
    "\n",
    "def add_tag(b):\n",
    "    added_tag_csv = pd.read_csv('inventory_data.csv')\n",
    "    #Takes away all NaN\n",
    "    added_tag_csv = added_tag_csv.replace(np.nan, '', regex = True)\n",
    "    #iterate through rows\n",
    "    for index in added_tag_csv.index:\n",
    "        if(added_tag_csv.loc[index, 'LAN IP Address'] == ip_range_tag.value):\n",
    "            added_tag_csv.loc[index,'Tags'] = added_tag_csv.loc[index,'Tags'] + \", \" + tag_name.value\n",
    "    \n",
    "    added_tag_csv.to_csv('inventory_data.csv')\n",
    "    with asset_inventory_updated_tag_output:\n",
    "        clear_output()\n",
    "        display(added_tag_csv)\n",
    "\n",
    "add_tag_button.on_click(add_tag)\n",
    "#print(\"Use the slider above to select how many rows of data you would like to see then click on the devices button up top.\")"
   ]
  },
  {
   "cell_type": "code",
   "execution_count": 31,
   "metadata": {
    "jupyter": {
     "source_hidden": true
    }
   },
   "outputs": [
    {
     "data": {
      "application/vnd.jupyter.widget-view+json": {
       "model_id": "8d341d2250ae41fc8082b74eb480675a",
       "version_major": 2,
       "version_minor": 0
      },
      "text/plain": [
       "Tab(children=(Accordion(children=(Button(description='Drop Rows', style=ButtonStyle()), Output(), Button(descr…"
      ]
     },
     "metadata": {},
     "output_type": "display_data"
    }
   ],
   "source": [
    "#because the buttons are created before, the accordion comes after so it can do something\n",
    "flow_data_accordion_three = widgets.Accordion(children=[drop_rows_button, device_dropped_output_area,\n",
    "                                                     asset_connection_button])\n",
    "flow_data_accordion_three.set_title(0, 'Button to Drop Rows and Show Resulting CSV')\n",
    "flow_data_accordion_three.set_title(1, 'Dropped Flow CSV Output Area')\n",
    "flow_data_accordion_three.set_title(2, 'Button for Generating Asset Graph')\n",
    "flow_data_accordion_three\n",
    "\n",
    "inventory_accordion_three = widgets.Accordion(children=[add_tag_button, asset_inventory_updated_tag_output])\n",
    "inventory_accordion_three.set_title(0, 'Button to Add Tag')\n",
    "inventory_accordion_three.set_title(1, 'Updated Asset Inventory Area')\n",
    "inventory_accordion_three\n",
    "\n",
    "tab_nest = widgets.Tab()\n",
    "#The line right below this one has placeholders\n",
    "tab_nest.children = [flow_data_accordion_three, inventory_accordion_three]\n",
    "tab_nest.set_title(0, 'Flow Data')\n",
    "tab_nest.set_title(1, 'Asset Inventory')\n",
    "\n",
    "tab_nest"
   ]
  },
  {
   "cell_type": "code",
   "execution_count": null,
   "metadata": {
    "jupyter": {
     "source_hidden": true
    }
   },
   "outputs": [],
   "source": []
  }
 ],
 "metadata": {
  "kernelspec": {
   "display_name": "Python 3",
   "language": "python",
   "name": "python3"
  },
  "language_info": {
   "codemirror_mode": {
    "name": "ipython",
    "version": 3
   },
   "file_extension": ".py",
   "mimetype": "text/x-python",
   "name": "python",
   "nbconvert_exporter": "python",
   "pygments_lexer": "ipython3",
   "version": "3.8.6"
  }
 },
 "nbformat": 4,
 "nbformat_minor": 4
}
