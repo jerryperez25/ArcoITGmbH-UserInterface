{
 "cells": [
  {
   "cell_type": "markdown",
   "metadata": {},
   "source": [
    "# Arco-IT GmbH MQP User Interface"
   ]
  },
  {
   "cell_type": "markdown",
   "metadata": {
    "pycharm": {
     "name": "#%% md\n"
    }
   },
   "source": [
    "## This user interface will allow the user to:"
   ]
  },
  {
   "cell_type": "markdown",
   "metadata": {},
   "source": [
    "1. Import a data file to be analyzed (CSV)\n",
    "\n",
    "    1a. Have the user select how many rows they wish to see\n",
    "    \n",
    "    1b. Have the user select which rows they would like to omit\n",
    "2. Create tags, and application data for rule generation\n",
    "3. Generate Rules\n",
    "4. Approve, Deny, or modify generated rules"
   ]
  },
  {
   "cell_type": "markdown",
   "metadata": {},
   "source": [
    "\n",
    "**Welcome to the Arco IT GmbH Official User Interface!**\n",
    "\n",
    "**--------------------------------------------------------**\n",
    "\n",
    "**To proceed, please upload a CSV file using the button provided to you.**"
   ]
  },
  {
   "cell_type": "code",
   "execution_count": 1,
   "metadata": {
    "pycharm": {
     "name": "#%%\n"
    }
   },
   "outputs": [
    {
     "data": {
      "application/vnd.jupyter.widget-view+json": {
       "model_id": "8107a0cab2d34d8f8558d3f727421922",
       "version_major": 2,
       "version_minor": 0
      },
      "text/plain": [
       "HBox(children=(VBox(children=(FileUpload(value={}, accept='.csv', description='Upload CSV'),)),))"
      ]
     },
     "metadata": {},
     "output_type": "display_data"
    }
   ],
   "source": [
    "import ipywidgets as widgets\n",
    "from IPython.display import display\n",
    "import pandas as pd\n",
    "\n",
    "#This is where the file upload button will be created\n",
    "upload = widgets.FileUpload(\n",
    "    description = 'Upload CSV',\n",
    "    multiple = False,\n",
    "    accept = '.csv'\n",
    ")\n",
    "\n",
    "#create upper buttons\n",
    "devices_button = widgets.Button(description = 'Devices')\n",
    "classifications_button = widgets.Button(description = 'Classifications')\n",
    "applications_button = widgets.Button(description = 'Applications')\n",
    "rules_button = widgets.Button(description = 'Rules')\n",
    "\n",
    "#display buttons - in a horizontal fashion\n",
    "display(widgets.HBox([widgets.VBox([upload])]))\n",
    "#                      widgets.VBox([devices_button]),\n",
    "#                      widgets.VBox([classifications_button]),\n",
    "#                      widgets.VBox([applications_button]),\n",
    "#                      widgets.VBox([rules_button])]))\n"
   ]
  },
  {
   "cell_type": "code",
   "execution_count": 2,
   "metadata": {},
   "outputs": [],
   "source": [
    "#this takes the resulting dictionary and assigns it to a variable \n",
    "uploaded_file_val = upload.value\n",
    "if(len(uploaded_file_val) == 0):\n",
    "    raise Exception(\"You must input a file\")\n",
    "#show that variable\n",
    "#uploaded_file_val"
   ]
  },
  {
   "cell_type": "code",
   "execution_count": 3,
   "metadata": {},
   "outputs": [],
   "source": [
    "#access whats important\n",
    "file_name = next(iter(uploaded_file_val))\n",
    "#we get the first element in the dictionary\n",
    "uploaded_file_content = uploaded_file_val[file_name]['content']\n",
    "#uploaded_file_content"
   ]
  },
  {
   "cell_type": "code",
   "execution_count": 4,
   "metadata": {},
   "outputs": [],
   "source": [
    "#This gets the number of rows within the CSV\n",
    "with open('inventory_data.csv') as counter:\n",
    "    row_counter_with_header = sum(1 for line in counter)\n",
    "row_counter_without_header = row_counter_with_header-1"
   ]
  },
  {
   "cell_type": "code",
   "execution_count": 5,
   "metadata": {},
   "outputs": [],
   "source": [
    "import codecs\n",
    "#decodes from bytes to list and splits the data accordingly\n",
    "data = uploaded_file_content.decode('utf-8').splitlines()\n",
    "#below line removes quotes from decoding by iterating through list\n",
    "data = [i.replace('\"', ' ') for i in data]\n",
    "#data"
   ]
  },
  {
   "cell_type": "code",
   "execution_count": 6,
   "metadata": {},
   "outputs": [],
   "source": [
    "import csv\n",
    "import re\n",
    "\n",
    "#This creates a csv file within the directory that has the original data\n",
    "with open(\"inventory_data.csv\", \"w\") as csv_file:\n",
    "    writer = csv.writer(csv_file, delimiter = '\\t')\n",
    "    for line in data:\n",
    "        writer.writerow(re.split('\\s+,',line))"
   ]
  },
  {
   "cell_type": "markdown",
   "metadata": {},
   "source": [
    "**There will be an interactive tab system that is configured for you to use. Each tab represents options for the desired mode, and has tools for those modes.**"
   ]
  },
  {
   "cell_type": "code",
   "execution_count": 7,
   "metadata": {},
   "outputs": [
    {
     "data": {
      "application/vnd.jupyter.widget-view+json": {
       "model_id": "788069ce7b78499c977497eba2ae389c",
       "version_major": 2,
       "version_minor": 0
      },
      "text/plain": [
       "Tab(children=(Accordion(children=(HBox(children=(VBox(children=(IntSlider(value=1, continuous_update=False, de…"
      ]
     },
     "metadata": {},
     "output_type": "display_data"
    }
   ],
   "source": [
    "#----------------------Device Setup-----------------\n",
    "#This is a slider to select how many rows would like to be displayed\n",
    "slider_result = widgets.IntSlider(\n",
    "    value=1,\n",
    "    min=1,\n",
    "    max=row_counter_without_header, #we have to subtract here to include the header\n",
    "    step=1,\n",
    "    description='Rows:',\n",
    "    disabled=False,\n",
    "    continuous_update=False,\n",
    "    orientation='horizontal',\n",
    "    readout=True,\n",
    "    readout_format='d'\n",
    ")\n",
    "link_text = widgets.IntText()\n",
    "widgets.jslink((slider_result, 'value'), (link_text, 'value'))\n",
    "#Creates the button for showing resulting CSV\n",
    "show_csv_button = widgets.Button(description = 'Show CSV')\n",
    "\n",
    "device_original_output_area = widgets.Output()\n",
    "device_dropped_output_area = widgets.Output()\n",
    "\n",
    "#Creates the text box for row omition\n",
    "deny_list_input = widgets.Textarea(placeholder = \"Separate the row values with commas\",\n",
    "                        description = \"Rows: \",\n",
    "                        disabled = False,\n",
    "                        layout = widgets.Layout(width='auto', height='40px'))#auto adjusts size\n",
    "    \n",
    "#Creates the row drop button\n",
    "drop_rows_button = widgets.Button(description = 'Drop Rows')\n",
    "\n",
    "#generate the button for the graph\n",
    "asset_connection_button = widgets.Button(description = \"Generate Asset Connection Graph\",\n",
    "                                        layout = widgets.Layout(width='auto', height='40px'))\n",
    "#This needs to be put somewhere else\n",
    "#Whats happening is at this point all of the buttons become activated but we need to rerun everything\n",
    "#to get the updated CSV\n",
    "\n",
    "device_accordion_one = widgets.Accordion(children=[widgets.HBox([widgets.VBox([slider_result]), widgets.VBox([link_text])])])\n",
    "device_accordion_one.set_title(0, 'Slider For Selecting How Many Rows to View At Once')\n",
    "device_accordion_one\n",
    "\n",
    "#-----------------Classification Setup-----------------------------\n",
    "#Creates the text box for IP Prefix\n",
    "ip_prefix_area = widgets.Textarea(placeholder = \"Input the IP Prefix\",\n",
    "                        description = \"IP Prefix: \",\n",
    "                        disabled = False,\n",
    "                        layout = widgets.Layout(width='auto', height='auto'))#auto adjusts size\n",
    "ip_values = [] #will be used to keep a store of ip's\n",
    "#Creates the text box for Tag Name\n",
    "tag_name_area = widgets.Textarea(placeholder = \"Input the Tag Name\",\n",
    "                        description = \"Name: \",\n",
    "                        disabled = False,\n",
    "                        layout = widgets.Layout(width='auto', height='auto'))#auto adjusts size\n",
    "#Creates the text box for Tag Description\n",
    "tag_description_area = widgets.Textarea(placeholder = \"Input the Tag Description\",\n",
    "                        description = \"Description: \",\n",
    "                        disabled = False,\n",
    "                        layout = widgets.Layout(width='auto', height='auto'))#auto adjusts size\n",
    "\n",
    "tag_output_area = widgets.Output()\n",
    "row_tag_list =[]\n",
    "#Creates the row add button\n",
    "add_tag = widgets.Button(description = 'Add')\n",
    "\n",
    "classification_accordion_one = widgets.Accordion(children=[widgets.HBox([widgets.VBox([ip_prefix_area]),\n",
    "                                                                                widgets.VBox([tag_name_area]),\n",
    "                                                                                widgets.VBox([tag_description_area])])])\n",
    "\n",
    "classification_accordion_one.set_title(0, 'Text Boxes for Tag Configuration')\n",
    "classification_accordion_one\n",
    "#-----------------Application Setup-----------------------------\n",
    "#Creates the text box for Port\n",
    "port_area = widgets.Textarea(placeholder = \"Input the Port Number\",\n",
    "                        description = \"Port: \",\n",
    "                        disabled = False,\n",
    "                        layout = widgets.Layout(width='auto', height='auto'))#auto adjusts size\n",
    "#Creates the dropdown for protocol\n",
    "protocol_dropdown = widgets.Dropdown(options = ['TCP', 'UDP'],\n",
    "                                     description = 'Protocol',\n",
    "                                    layout = widgets.Layout(width='auto', height='auto'))\n",
    "                                     \n",
    "#Creates the text box for App Name\n",
    "app_name_area = widgets.Textarea(placeholder = \"Input the Application Name\",\n",
    "                        description = \"Name: \",\n",
    "                        disabled = False,\n",
    "                        layout = widgets.Layout(width='auto', height='auto'))#auto adjusts size\n",
    "#Creates the text box for App Description\n",
    "app_description_area = widgets.Textarea(placeholder = \"Input the Application Description\",\n",
    "                        description = \"Description: \",\n",
    "                        disabled = False,\n",
    "                        layout = widgets.Layout(width='auto', height='auto'))#auto adjusts size\n",
    "app_output_area = widgets.Output()\n",
    "row_app_list =[]\n",
    "#Creates the row add button\n",
    "add_app = widgets.Button(description = 'Add')\n",
    "\n",
    "application_accordion_one = widgets.Accordion(children=[widgets.HBox([widgets.VBox([port_area]),\n",
    "                                                                      widgets.VBox([protocol_dropdown]),\n",
    "                                                                                widgets.VBox([app_name_area]),\n",
    "                                                                                widgets.VBox([app_description_area])])])\n",
    "\n",
    "application_accordion_one.set_title(0, 'Text Boxes for Application Configuration')\n",
    "application_accordion_one\n",
    "\n",
    "#-----------------Rule Setup-----------------------------\n",
    "#Creates the text box for Port\n",
    "order_num = widgets.Textarea(placeholder = \"Input the Order Preference\",\n",
    "                        description = \"Order: \",\n",
    "                        disabled = False,\n",
    "                        layout = widgets.Layout(width='auto', height='auto'))#auto adjusts size\n",
    "#Creates the dropdown for protocol\n",
    "application_name = widgets.Dropdown(options = ['SSH', 'Machine Control'],\n",
    "                                     description = 'Application',\n",
    "                                    layout = widgets.Layout(width='auto', height='auto'))\n",
    "                                     \n",
    "#Creates the text box for Source Area\n",
    "source_text = widgets.Textarea(placeholder = \"Input the Source\",\n",
    "                        description = \"Source: \",\n",
    "                        disabled = False,\n",
    "                        layout = widgets.Layout(width='auto', height='auto'))#auto adjusts size\n",
    "#Creates the text box for Target Area\n",
    "target_area = widgets.Textarea(placeholder = \"Input the Target\",\n",
    "                        description = \"Target: \",\n",
    "                        disabled = False,\n",
    "                        layout = widgets.Layout(width='auto', height='auto'))#auto adjusts size\n",
    "#Creates the text box for Decision Dropdown\n",
    "decision_dropdown = widgets.Dropdown(options = ['Allow', 'Disallow'],\n",
    "                                     description = 'Decision',\n",
    "                                    layout = widgets.Layout(width='auto', height='auto'))\n",
    "#Creates the text box for Description Area\n",
    "description_area = widgets.Textarea(placeholder = \"Input the Description\",\n",
    "                        description = \"Description: \",\n",
    "                        disabled = False,\n",
    "                        layout = widgets.Layout(width='auto', height='auto'))#auto adjusts size\n",
    "rule_output_area = widgets.Output()\n",
    "row_rule_list =[]\n",
    "#Creates the row add button for rule\n",
    "add_rule = widgets.Button(description = 'Add')\n",
    "#Creates the row add button for rule (ML generated)\n",
    "add_ML_rule = widgets.Button(description = 'Auto Generate', layout = widgets.Layout(width='auto', height='auto'))\n",
    "\n",
    "left_box = widgets.HBox([order_num, application_name, source_text])\n",
    "right_box = widgets.HBox([target_area, decision_dropdown, description_area])\n",
    "\n",
    "rule_accordion_one = widgets.Accordion(children=[widgets.VBox([left_box, right_box])])\n",
    "\n",
    "rule_accordion_one.set_title(0, 'Text Boxes for Rule Configuration')\n",
    "rule_accordion_one\n",
    "\n",
    "#------------------Phase 1 Tab-----------------------------------\n",
    "\n",
    "tab_nest = widgets.Tab()\n",
    "#The line right below this one has placeholders\n",
    "tab_nest.children = [device_accordion_one, classification_accordion_one, application_accordion_one, rule_accordion_one]\n",
    "tab_nest.set_title(0, 'Device Options')\n",
    "tab_nest.set_title(1, 'Classification Options')\n",
    "tab_nest.set_title(2, 'Application Options')\n",
    "tab_nest.set_title(3, 'Rule Options')\n",
    "tab_nest\n"
   ]
  },
  {
   "cell_type": "code",
   "execution_count": 8,
   "metadata": {},
   "outputs": [],
   "source": [
    "def number_devices(iprange):\n",
    "    ##first take in the IP range\n",
    "    df= pd.read_csv(r'inventory_data.csv')\n",
    "    check= re.sub('/',\"\",iprange)\n",
    "    min = re.sub('\\/.*$',\"\",iprange)\n",
    "    min = re.sub('.\\\\d{0,3}.\\\\d{0,3}\\\\d{0,3}\\\\.\\\\d{0,3}.',\"\",min)\n",
    "    max=re.sub('^.*?/', '', iprange)\n",
    "\n",
    "    if int(min)>int(max) or int(max)>255 or int(min)<0:\n",
    "        print(\"Invalid. Range can only be from 0-255\")\n",
    "        return\n",
    "\n",
    "    check = re.sub('\\\\.\\\\d+$',\"\",check)\n",
    "    List_devices= []\n",
    "    List_IPs=[]\n",
    "    FinalList_all = []\n",
    "    count=0\n",
    "    for (columnName, columnData) in df.iteritems():\n",
    "        \n",
    "        if('Address' in columnName):\n",
    "            for i in range(len(df[columnName])):\n",
    "                if check in df[columnName].iloc[i] and len(check)==len(re.sub('\\\\.\\\\d+$',\"\",df[columnName].iloc[i])):\n",
    "                    curr_val= re.sub('.\\\\d{1,3}.\\\\d{1,3}\\\\d{1,3}\\\\.\\\\d{1,3}.',\"\",df[columnName].iloc[i])\n",
    "                    \n",
    "                    if int(curr_val)>=int(min) and int(curr_val)<=int(max):\n",
    "                        \n",
    "                        FinalList_all.append(df[columnName].iloc[i])\n",
    "                        if(df[columnName].iloc[i] not in List_IPs):\n",
    "                            List_IPs.append(df[columnName].iloc[i])\n",
    "                        \n",
    "                        for(name,data)in df.iteritems():\n",
    "                            if('Device' in name) :\n",
    "                                count+=1\n",
    "                                if(df[name].iloc[i] not in List_devices):\n",
    "                                    List_devices.append(df[name].iloc[i])\n",
    "\n",
    "    return len(FinalList_all)\n",
    "#number_devices(ip_prefix_area.value)"
   ]
  },
  {
   "cell_type": "code",
   "execution_count": 9,
   "metadata": {},
   "outputs": [],
   "source": [
    "#------------Creates the CSV for tags------------------\n",
    "from IPython.display import display, clear_output\n",
    "header = ['IP-Prefixes', 'Name', 'Description', 'Matched Devices']\n",
    "\n",
    "if len(ip_prefix_area.value) != 0:\n",
    "    row_tag_list.append([ip_prefix_area.value, tag_name_area.value, tag_description_area.value,number_devices(ip_prefix_area.value)])\n",
    "    \n",
    "#--Tag CSV--   \n",
    "def add_tag_row(a):\n",
    "    with open(\"tag_classifications.csv\", \"w\", newline='') as f:\n",
    "        tag_writer = csv.writer(f, delimiter=',')\n",
    "        tag_writer.writerow(header) # write header\n",
    "        for lines in row_tag_list:\n",
    "            tag_writer.writerow(lines)\n",
    "    with tag_output_area:\n",
    "        clear_output()\n",
    "        tag_classification_csv = pd.read_csv('tag_classifications.csv')\n",
    "        display(tag_classification_csv)\n",
    "#----button click----\n",
    "add_tag.on_click(add_tag_row)"
   ]
  },
  {
   "cell_type": "code",
   "execution_count": 10,
   "metadata": {},
   "outputs": [],
   "source": [
    "#------------Creates the CSV for applications------------------\n",
    "app_header = ['Port', 'Protocol', 'Name', 'Description']\n",
    "\n",
    "row_app_list.append([port_area.value, protocol_dropdown.value, app_name_area.value, app_description_area.value])\n",
    "\n",
    "add_app.click_count = 0\n",
    "\n",
    "#--App CSV--\n",
    "def add_app_row(a):\n",
    "    \n",
    "    add_app.click_count += 1\n",
    "#    --Create an output area here --\n",
    "    \n",
    "    with open(\"applications.csv\", \"w\", newline='') as f:\n",
    "        app_writer = csv.writer(f, delimiter=',')\n",
    "        app_writer.writerow(app_header) # write header\n",
    "        for lines in row_app_list:\n",
    "            app_writer.writerow(lines)\n",
    "    with app_output_area:\n",
    "        clear_output()\n",
    "        applications_csv = pd.read_csv('applications.csv')\n",
    "        display(applications_csv)\n",
    "#----button click----\n",
    "add_app.on_click(add_app_row)"
   ]
  },
  {
   "cell_type": "code",
   "execution_count": 11,
   "metadata": {},
   "outputs": [],
   "source": [
    "#------------Creates the CSV for rules------------------\n",
    "from IPython.display import display, clear_output\n",
    "\n",
    "app_header = ['Order', 'Application', 'Source', 'Target', 'Decision', 'Name']\n",
    "\n",
    "row_rule_list.append([order_num.value, application_name.value, source_text.value, target_area.value,\n",
    "                     decision_dropdown.value, description_area.value])\n",
    "\n",
    "#--Rule CSV--\n",
    "def add_rule_row(a):    \n",
    "    with open(\"rules.csv\", \"w\", newline='') as f:\n",
    "        rule_writer = csv.writer(f, delimiter=',')\n",
    "        rule_writer.writerow(app_header) # write header\n",
    "        for lines in row_rule_list:\n",
    "            rule_writer.writerow(lines)\n",
    "    with rule_output_area:\n",
    "        clear_output()\n",
    "        rule_csv = pd.read_csv('rules.csv')\n",
    "        display(rule_csv)\n",
    "#----button click----\n",
    "add_rule.on_click(add_rule_row)"
   ]
  },
  {
   "cell_type": "code",
   "execution_count": 12,
   "metadata": {},
   "outputs": [],
   "source": [
    "#------------Creates the CSV for Machine Learning rules------------------"
   ]
  },
  {
   "cell_type": "code",
   "execution_count": 13,
   "metadata": {},
   "outputs": [],
   "source": [
    "original_csv = pd.read_csv('inventory_data.csv', skiprows = range(1,(row_counter_with_header - slider_result.value)))\n",
    "\n",
    "def show_csv(b):\n",
    "    with device_original_output_area:\n",
    "        clear_output()\n",
    "        display(original_csv)\n",
    "\n",
    "show_csv_button.on_click(show_csv)\n",
    "#print(\"Use the slider above to select how many rows of data you would like to see then click on the devices button up top.\")"
   ]
  },
  {
   "cell_type": "code",
   "execution_count": 14,
   "metadata": {},
   "outputs": [],
   "source": [
    "#display(drop_rows_button)\n",
    "def drop_rows(a):\n",
    "    if(deny_list[0]==''):\n",
    "        raise Exception(\"This button cannot be used if there is no text input.\")\n",
    "    #drop the selected rows from the dataset\n",
    "    with device_dropped_output_area:\n",
    "        clear_output()\n",
    "        original_csv.drop(original_csv.index[deny_list_ints], inplace = True)\n",
    "        display(original_csv)\n",
    "\n",
    "drop_rows_button.on_click(drop_rows)"
   ]
  },
  {
   "cell_type": "code",
   "execution_count": 15,
   "metadata": {},
   "outputs": [],
   "source": [
    "#This creates another csv file within the directory that has the modified data\n",
    "with open(\"inventory_data.csv\", \"w\") as csv_file:\n",
    "    writer = csv.writer(csv_file, delimiter = '\\t')\n",
    "    for line in data:\n",
    "        writer.writerow(re.split('\\s+,',line))"
   ]
  },
  {
   "cell_type": "code",
   "execution_count": 29,
   "metadata": {},
   "outputs": [],
   "source": [
    "#Imports for connection graph\n",
    "import pandas as pd\n",
    "import networkx as nx\n",
    "import matplotlib.pyplot as plt\n",
    "from matplotlib.axes._axes import _log as matplotlib_axes_logger\n",
    "\n",
    "#display(asset_connection_button)\n",
    "\n",
    "def generate_asset_connection_graph(b):\n",
    "    matplotlib_axes_logger.setLevel('ERROR')\n",
    "\n",
    "    common_port_cutoff = 1024\n",
    "\n",
    "    flow_data = pd.read_csv('sample_data/sample_data.csv', header=0)\n",
    "    ip_data = pd.read_csv('sample_data/ip_inventory.csv', header=0, index_col=0)\n",
    "\n",
    "    def map_ips_to_col(address_name, col_name):\n",
    "        site_list = []\n",
    "        for ip in flow_data[address_name]:\n",
    "            try:\n",
    "                name = ip_data.at[ip, col_name]\n",
    "                site_list.append(name)\n",
    "            except:\n",
    "                site_list.append(pd.NaT)\n",
    "        return pd.DataFrame(site_list, columns=[address_name])\n",
    "\n",
    "    site_a = map_ips_to_col('Address A', 'Plant Area')\n",
    "    site_b = map_ips_to_col('Address B', 'Plant Area')\n",
    "    port_a = flow_data['Port A']\n",
    "    port_b = flow_data['Port B']\n",
    "\n",
    "    data = pd.concat([site_a, port_a, site_b, port_b], 1)\n",
    "    data = data.dropna()\n",
    "\n",
    "    #print('Data loaded')\n",
    "\n",
    "    main_graph = {}\n",
    "    for i, d in data.iterrows():\n",
    "        ports = []\n",
    "        if d['Port A'] <= common_port_cutoff:\n",
    "            ports.append(d['Port A'])\n",
    "        if d['Port B'] <= common_port_cutoff:\n",
    "            ports.append(d['Port B'])\n",
    "        if d['Address A'] in main_graph:\n",
    "            connections = main_graph[d['Address A']]\n",
    "            if d['Address B'] in connections:\n",
    "                used_ports = connections[d['Address B']]\n",
    "                for p in ports:\n",
    "                    if not p in used_ports:\n",
    "                        used_ports.append(p)\n",
    "            elif len(ports) > 0:\n",
    "                connections[d['Address B']] = ports\n",
    "        elif len(ports) > 0:\n",
    "            main_graph[d['Address A']] = {d['Address B']: ports}\n",
    "\n",
    "    #print('Main graph created')\n",
    "\n",
    "    inter_graph = {}\n",
    "    ip_a = flow_data['Address A']\n",
    "    ip_b = flow_data['Address B']\n",
    "    for i in range(site_a.shape[0]):\n",
    "        site_a_i = site_a['Address A'][i]\n",
    "        ports = []\n",
    "        if port_a[i] <= common_port_cutoff:\n",
    "            ports.append(port_a[i])\n",
    "        if port_b[i] <= common_port_cutoff:\n",
    "            ports.append(port_b[i])\n",
    "        if site_a_i == site_b['Address B'][i]:\n",
    "            ip_a_i = ip_a[i]\n",
    "            ip_b_i = ip_b[i]\n",
    "            if site_a_i in inter_graph:\n",
    "                if ip_a_i in inter_graph[site_a_i]:\n",
    "                    if ip_b_i in inter_graph[site_a_i][ip_a_i]:\n",
    "                        used_ports = inter_graph[site_a_i][ip_a_i][ip_b_i]\n",
    "                        for p in ports:\n",
    "                            if not p in used_ports:\n",
    "                                used_ports.append(p)\n",
    "                    elif len(ports) > 0:\n",
    "                        inter_graph[site_a_i][ip_a_i][ip_b_i] = ports\n",
    "                elif len(ports) > 0:\n",
    "                    inter_graph[site_a_i][ip_a_i] = {ip_b_i: ports}\n",
    "            elif len(ports) > 0:\n",
    "                inter_graph[site_a_i] = {ip_a_i: {ip_b_i: ports}}\n",
    "\n",
    "    #print('Internal graphs created')\n",
    "\n",
    "    def formate_node_label(label):\n",
    "        if label == 'Other ProcN Devices':\n",
    "            return 'Other ProcN\\n Devices'\n",
    "        if label == 'EAF Dust Washing':\n",
    "            return 'EAF Dust\\nWashing'\n",
    "        return label\n",
    "\n",
    "    def plot_graph(graph_name, graph, fig_size):\n",
    "        vis_graph = nx.DiGraph()\n",
    "        edge_labels = {}\n",
    "        for k0, v0 in graph.items():\n",
    "            for k1, v1 in v0.items():\n",
    "                if k0 != k1:\n",
    "                    if len(v1) > 0:\n",
    "                        vis_graph.add_edge(k1, k0)\n",
    "                        edge_labels[(k0, k1)] = ', '.join(map(str, v1))\n",
    "\n",
    "        pos = nx.kamada_kawai_layout(vis_graph)\n",
    "        fig = plt.figure(figsize=fig_size, dpi=300)\n",
    "        nx.draw(vis_graph, pos, node_size=5500, node_color=[0.9,0.9,0.9], labels={node:formate_node_label(str(node)) for node in vis_graph.nodes()}, font_size=10, edgecolors='black')\n",
    "        nx.draw_networkx_edge_labels(vis_graph, pos, edge_labels=edge_labels)\n",
    "\n",
    "        plt.savefig('output/asset_connection_' + graph_name + '.png')\n",
    "\n",
    "    plot_graph('Main', main_graph, (9, 9))\n",
    "    #print('Plotted main graph')\n",
    "\n",
    "    for site, connections in inter_graph.items():\n",
    "        plot_graph(site, connections, (7, 7))\n",
    "        #print('Plotted ' + site + ' internal graph')\n",
    "    \n",
    "asset_connection_button.on_click(generate_asset_connection_graph)\n"
   ]
  },
  {
   "cell_type": "markdown",
   "metadata": {},
   "source": [
    "**There have been a few more tools generated:**\n",
    "\n",
    " **- A button to show the resulting CSV file.**\n",
    " \n",
    " **- A text box to insert rows that you would like to remove.** \n",
    " \n",
    "Keep in mind, the text box numbers have to be separated with commas and they follow 0 based indexxing. So, typing 0 into the box aims to eliminate the first row of the CSV, typing 1 aims for the second row, so on and so fourth."
   ]
  },
  {
   "cell_type": "code",
   "execution_count": 30,
   "metadata": {},
   "outputs": [
    {
     "data": {
      "application/vnd.jupyter.widget-view+json": {
       "model_id": "17546c28989946fa9deaca10a3d6b738",
       "version_major": 2,
       "version_minor": 0
      },
      "text/plain": [
       "Tab(children=(Accordion(children=(Button(description='Show CSV', style=ButtonStyle()), Output(), Textarea(valu…"
      ]
     },
     "metadata": {},
     "output_type": "display_data"
    }
   ],
   "source": [
    "#------------------Device Setup----------\n",
    "device_accordion_two = widgets.Accordion(children=[show_csv_button, device_original_output_area,\n",
    "                                                   deny_list_input])\n",
    "device_accordion_two.set_title(0, 'Button To Show the Resulting CSV')\n",
    "device_accordion_two.set_title(1, 'Device CSV Output Area')\n",
    "device_accordion_two.set_title(2, 'Text Box To Remove Rows')\n",
    "device_accordion_two\n",
    "\n",
    "#------------------Classification Setup----------\n",
    "classification_accordion_two = widgets.Accordion(children=[add_tag, tag_output_area])\n",
    "\n",
    "classification_accordion_two.set_title(0, 'Button to Add Tag and Show Resulting CSV')\n",
    "classification_accordion_two.set_title(1, 'Classification CSV Output Area')\n",
    "classification_accordion_two\n",
    "tab_nest = widgets.Tab()\n",
    "#------------------Application Setup----------\n",
    "application_accordion_two = widgets.Accordion(children=[add_app, app_output_area])\n",
    "\n",
    "application_accordion_two.set_title(0, 'Button to Add Application and Show Resulting CSV')\n",
    "application_accordion_two.set_title(1, 'Application CSV Output Area')\n",
    "application_accordion_two\n",
    "#------------------Rule Setup----------\n",
    "rule_accordion_two = widgets.Accordion(children=[add_rule,rule_output_area, add_ML_rule])\n",
    "\n",
    "rule_accordion_two.set_title(0, 'Button to Add Rule and Show Resulting CSV')\n",
    "rule_accordion_two.set_title(1, 'Created Rule CSV Output Area')\n",
    "rule_accordion_two.set_title(2, 'Button to Add Machine Learning Rules and Show Resulting CSV')\n",
    "rule_accordion_two.set_title(3, 'Machine Learning Generated CSV Output Area')\n",
    "rule_accordion_two\n",
    "#-----------------Tab Creation----------------\n",
    "tab_nest = widgets.Tab()\n",
    "#The line right below this one has placeholders\n",
    "tab_nest.children = [device_accordion_two, classification_accordion_two, application_accordion_two, rule_accordion_two]\n",
    "tab_nest.set_title(0, 'Device Options')\n",
    "tab_nest.set_title(1, 'Classification Options')\n",
    "tab_nest.set_title(2, 'Application Options')\n",
    "tab_nest.set_title(3, 'Rule Options')\n",
    "tab_nest"
   ]
  },
  {
   "cell_type": "code",
   "execution_count": 31,
   "metadata": {},
   "outputs": [],
   "source": [
    "if(deny_list_input.value!=''):\n",
    "    #separate variables\n",
    "    deny_list = deny_list_input.value.split(\",\")\n",
    "    #convert into integers\n",
    "    deny_list_ints = [int(i) for i in deny_list]\n",
    "    #deny_list_ints #this just shows what the contents are\n",
    "else:\n",
    "    deny_list = deny_list_input.value.split(\",\")\n",
    "    deny_list_ints =[0]"
   ]
  },
  {
   "cell_type": "markdown",
   "metadata": {},
   "source": [
    "**This is the final wave for the device side of things. There a few things here:**\n",
    "\n",
    " **- A button to drop the selected rows from the previous step**\n",
    " \n",
    " **- A button to generate an asset connection graph**"
   ]
  },
  {
   "cell_type": "code",
   "execution_count": 32,
   "metadata": {},
   "outputs": [
    {
     "data": {
      "application/vnd.jupyter.widget-view+json": {
       "model_id": "6ae6a727548943528eb7f5ffab549caf",
       "version_major": 2,
       "version_minor": 0
      },
      "text/plain": [
       "Tab(children=(Accordion(children=(Button(description='Drop Rows', style=ButtonStyle()), Output(), Button(descr…"
      ]
     },
     "metadata": {},
     "output_type": "display_data"
    }
   ],
   "source": [
    "#because the buttons are created before, the accordion comes after so it can do something\n",
    "device_accordion_three = widgets.Accordion(children=[drop_rows_button, device_original_output_area,\n",
    "                                                     asset_connection_button])\n",
    "device_accordion_three.set_title(0, 'Button to Drop Rows and Show Resulting CSV')\n",
    "device_accordion_three.set_title(1, 'Dropped Device CSV Output Area')\n",
    "device_accordion_three.set_title(2, 'Button for Generating Asset Graph')\n",
    "device_accordion_three.set_title(3, 'Resulting Asset Graph Area')\n",
    "device_accordion_three\n",
    "tab_nest = widgets.Tab()\n",
    "#The line right below this one has placeholders\n",
    "tab_nest.children = [device_accordion_three]#, device_accordion_three, device_accordion_three, device_accordion_three]\n",
    "tab_nest.set_title(0, 'Device Options')\n",
    "#tab_nest.set_title(1, 'Classification Options')\n",
    "#tab_nest.set_title(2, 'Application Options')\n",
    "#tab_nest.set_title(3, 'Rule Options')\n",
    "tab_nest"
   ]
  },
  {
   "cell_type": "code",
   "execution_count": 30,
   "metadata": {},
   "outputs": [
    {
     "data": {
      "application/vnd.plotly.v1+json": {
       "config": {
        "plotlyServerURL": "https://plot.ly"
       },
       "data": [
        {
         "name": "Share Prices (in USD)",
         "type": "scatter",
         "x": [
          "152.1.100.22/35"
         ],
         "y": [
          "Testing"
         ]
        }
       ],
       "layout": {
        "plot_bgcolor": "rgb(230, 230,230)",
        "showlegend": true,
        "template": {
         "data": {
          "bar": [
           {
            "error_x": {
             "color": "#2a3f5f"
            },
            "error_y": {
             "color": "#2a3f5f"
            },
            "marker": {
             "line": {
              "color": "#E5ECF6",
              "width": 0.5
             }
            },
            "type": "bar"
           }
          ],
          "barpolar": [
           {
            "marker": {
             "line": {
              "color": "#E5ECF6",
              "width": 0.5
             }
            },
            "type": "barpolar"
           }
          ],
          "carpet": [
           {
            "aaxis": {
             "endlinecolor": "#2a3f5f",
             "gridcolor": "white",
             "linecolor": "white",
             "minorgridcolor": "white",
             "startlinecolor": "#2a3f5f"
            },
            "baxis": {
             "endlinecolor": "#2a3f5f",
             "gridcolor": "white",
             "linecolor": "white",
             "minorgridcolor": "white",
             "startlinecolor": "#2a3f5f"
            },
            "type": "carpet"
           }
          ],
          "choropleth": [
           {
            "colorbar": {
             "outlinewidth": 0,
             "ticks": ""
            },
            "type": "choropleth"
           }
          ],
          "contour": [
           {
            "colorbar": {
             "outlinewidth": 0,
             "ticks": ""
            },
            "colorscale": [
             [
              0,
              "#0d0887"
             ],
             [
              0.1111111111111111,
              "#46039f"
             ],
             [
              0.2222222222222222,
              "#7201a8"
             ],
             [
              0.3333333333333333,
              "#9c179e"
             ],
             [
              0.4444444444444444,
              "#bd3786"
             ],
             [
              0.5555555555555556,
              "#d8576b"
             ],
             [
              0.6666666666666666,
              "#ed7953"
             ],
             [
              0.7777777777777778,
              "#fb9f3a"
             ],
             [
              0.8888888888888888,
              "#fdca26"
             ],
             [
              1,
              "#f0f921"
             ]
            ],
            "type": "contour"
           }
          ],
          "contourcarpet": [
           {
            "colorbar": {
             "outlinewidth": 0,
             "ticks": ""
            },
            "type": "contourcarpet"
           }
          ],
          "heatmap": [
           {
            "colorbar": {
             "outlinewidth": 0,
             "ticks": ""
            },
            "colorscale": [
             [
              0,
              "#0d0887"
             ],
             [
              0.1111111111111111,
              "#46039f"
             ],
             [
              0.2222222222222222,
              "#7201a8"
             ],
             [
              0.3333333333333333,
              "#9c179e"
             ],
             [
              0.4444444444444444,
              "#bd3786"
             ],
             [
              0.5555555555555556,
              "#d8576b"
             ],
             [
              0.6666666666666666,
              "#ed7953"
             ],
             [
              0.7777777777777778,
              "#fb9f3a"
             ],
             [
              0.8888888888888888,
              "#fdca26"
             ],
             [
              1,
              "#f0f921"
             ]
            ],
            "type": "heatmap"
           }
          ],
          "heatmapgl": [
           {
            "colorbar": {
             "outlinewidth": 0,
             "ticks": ""
            },
            "colorscale": [
             [
              0,
              "#0d0887"
             ],
             [
              0.1111111111111111,
              "#46039f"
             ],
             [
              0.2222222222222222,
              "#7201a8"
             ],
             [
              0.3333333333333333,
              "#9c179e"
             ],
             [
              0.4444444444444444,
              "#bd3786"
             ],
             [
              0.5555555555555556,
              "#d8576b"
             ],
             [
              0.6666666666666666,
              "#ed7953"
             ],
             [
              0.7777777777777778,
              "#fb9f3a"
             ],
             [
              0.8888888888888888,
              "#fdca26"
             ],
             [
              1,
              "#f0f921"
             ]
            ],
            "type": "heatmapgl"
           }
          ],
          "histogram": [
           {
            "marker": {
             "colorbar": {
              "outlinewidth": 0,
              "ticks": ""
             }
            },
            "type": "histogram"
           }
          ],
          "histogram2d": [
           {
            "colorbar": {
             "outlinewidth": 0,
             "ticks": ""
            },
            "colorscale": [
             [
              0,
              "#0d0887"
             ],
             [
              0.1111111111111111,
              "#46039f"
             ],
             [
              0.2222222222222222,
              "#7201a8"
             ],
             [
              0.3333333333333333,
              "#9c179e"
             ],
             [
              0.4444444444444444,
              "#bd3786"
             ],
             [
              0.5555555555555556,
              "#d8576b"
             ],
             [
              0.6666666666666666,
              "#ed7953"
             ],
             [
              0.7777777777777778,
              "#fb9f3a"
             ],
             [
              0.8888888888888888,
              "#fdca26"
             ],
             [
              1,
              "#f0f921"
             ]
            ],
            "type": "histogram2d"
           }
          ],
          "histogram2dcontour": [
           {
            "colorbar": {
             "outlinewidth": 0,
             "ticks": ""
            },
            "colorscale": [
             [
              0,
              "#0d0887"
             ],
             [
              0.1111111111111111,
              "#46039f"
             ],
             [
              0.2222222222222222,
              "#7201a8"
             ],
             [
              0.3333333333333333,
              "#9c179e"
             ],
             [
              0.4444444444444444,
              "#bd3786"
             ],
             [
              0.5555555555555556,
              "#d8576b"
             ],
             [
              0.6666666666666666,
              "#ed7953"
             ],
             [
              0.7777777777777778,
              "#fb9f3a"
             ],
             [
              0.8888888888888888,
              "#fdca26"
             ],
             [
              1,
              "#f0f921"
             ]
            ],
            "type": "histogram2dcontour"
           }
          ],
          "mesh3d": [
           {
            "colorbar": {
             "outlinewidth": 0,
             "ticks": ""
            },
            "type": "mesh3d"
           }
          ],
          "parcoords": [
           {
            "line": {
             "colorbar": {
              "outlinewidth": 0,
              "ticks": ""
             }
            },
            "type": "parcoords"
           }
          ],
          "pie": [
           {
            "automargin": true,
            "type": "pie"
           }
          ],
          "scatter": [
           {
            "marker": {
             "colorbar": {
              "outlinewidth": 0,
              "ticks": ""
             }
            },
            "type": "scatter"
           }
          ],
          "scatter3d": [
           {
            "line": {
             "colorbar": {
              "outlinewidth": 0,
              "ticks": ""
             }
            },
            "marker": {
             "colorbar": {
              "outlinewidth": 0,
              "ticks": ""
             }
            },
            "type": "scatter3d"
           }
          ],
          "scattercarpet": [
           {
            "marker": {
             "colorbar": {
              "outlinewidth": 0,
              "ticks": ""
             }
            },
            "type": "scattercarpet"
           }
          ],
          "scattergeo": [
           {
            "marker": {
             "colorbar": {
              "outlinewidth": 0,
              "ticks": ""
             }
            },
            "type": "scattergeo"
           }
          ],
          "scattergl": [
           {
            "marker": {
             "colorbar": {
              "outlinewidth": 0,
              "ticks": ""
             }
            },
            "type": "scattergl"
           }
          ],
          "scattermapbox": [
           {
            "marker": {
             "colorbar": {
              "outlinewidth": 0,
              "ticks": ""
             }
            },
            "type": "scattermapbox"
           }
          ],
          "scatterpolar": [
           {
            "marker": {
             "colorbar": {
              "outlinewidth": 0,
              "ticks": ""
             }
            },
            "type": "scatterpolar"
           }
          ],
          "scatterpolargl": [
           {
            "marker": {
             "colorbar": {
              "outlinewidth": 0,
              "ticks": ""
             }
            },
            "type": "scatterpolargl"
           }
          ],
          "scatterternary": [
           {
            "marker": {
             "colorbar": {
              "outlinewidth": 0,
              "ticks": ""
             }
            },
            "type": "scatterternary"
           }
          ],
          "surface": [
           {
            "colorbar": {
             "outlinewidth": 0,
             "ticks": ""
            },
            "colorscale": [
             [
              0,
              "#0d0887"
             ],
             [
              0.1111111111111111,
              "#46039f"
             ],
             [
              0.2222222222222222,
              "#7201a8"
             ],
             [
              0.3333333333333333,
              "#9c179e"
             ],
             [
              0.4444444444444444,
              "#bd3786"
             ],
             [
              0.5555555555555556,
              "#d8576b"
             ],
             [
              0.6666666666666666,
              "#ed7953"
             ],
             [
              0.7777777777777778,
              "#fb9f3a"
             ],
             [
              0.8888888888888888,
              "#fdca26"
             ],
             [
              1,
              "#f0f921"
             ]
            ],
            "type": "surface"
           }
          ],
          "table": [
           {
            "cells": {
             "fill": {
              "color": "#EBF0F8"
             },
             "line": {
              "color": "white"
             }
            },
            "header": {
             "fill": {
              "color": "#C8D4E3"
             },
             "line": {
              "color": "white"
             }
            },
            "type": "table"
           }
          ]
         },
         "layout": {
          "annotationdefaults": {
           "arrowcolor": "#2a3f5f",
           "arrowhead": 0,
           "arrowwidth": 1
          },
          "autotypenumbers": "strict",
          "coloraxis": {
           "colorbar": {
            "outlinewidth": 0,
            "ticks": ""
           }
          },
          "colorscale": {
           "diverging": [
            [
             0,
             "#8e0152"
            ],
            [
             0.1,
             "#c51b7d"
            ],
            [
             0.2,
             "#de77ae"
            ],
            [
             0.3,
             "#f1b6da"
            ],
            [
             0.4,
             "#fde0ef"
            ],
            [
             0.5,
             "#f7f7f7"
            ],
            [
             0.6,
             "#e6f5d0"
            ],
            [
             0.7,
             "#b8e186"
            ],
            [
             0.8,
             "#7fbc41"
            ],
            [
             0.9,
             "#4d9221"
            ],
            [
             1,
             "#276419"
            ]
           ],
           "sequential": [
            [
             0,
             "#0d0887"
            ],
            [
             0.1111111111111111,
             "#46039f"
            ],
            [
             0.2222222222222222,
             "#7201a8"
            ],
            [
             0.3333333333333333,
             "#9c179e"
            ],
            [
             0.4444444444444444,
             "#bd3786"
            ],
            [
             0.5555555555555556,
             "#d8576b"
            ],
            [
             0.6666666666666666,
             "#ed7953"
            ],
            [
             0.7777777777777778,
             "#fb9f3a"
            ],
            [
             0.8888888888888888,
             "#fdca26"
            ],
            [
             1,
             "#f0f921"
            ]
           ],
           "sequentialminus": [
            [
             0,
             "#0d0887"
            ],
            [
             0.1111111111111111,
             "#46039f"
            ],
            [
             0.2222222222222222,
             "#7201a8"
            ],
            [
             0.3333333333333333,
             "#9c179e"
            ],
            [
             0.4444444444444444,
             "#bd3786"
            ],
            [
             0.5555555555555556,
             "#d8576b"
            ],
            [
             0.6666666666666666,
             "#ed7953"
            ],
            [
             0.7777777777777778,
             "#fb9f3a"
            ],
            [
             0.8888888888888888,
             "#fdca26"
            ],
            [
             1,
             "#f0f921"
            ]
           ]
          },
          "colorway": [
           "#636efa",
           "#EF553B",
           "#00cc96",
           "#ab63fa",
           "#FFA15A",
           "#19d3f3",
           "#FF6692",
           "#B6E880",
           "#FF97FF",
           "#FECB52"
          ],
          "font": {
           "color": "#2a3f5f"
          },
          "geo": {
           "bgcolor": "white",
           "lakecolor": "white",
           "landcolor": "#E5ECF6",
           "showlakes": true,
           "showland": true,
           "subunitcolor": "white"
          },
          "hoverlabel": {
           "align": "left"
          },
          "hovermode": "closest",
          "mapbox": {
           "style": "light"
          },
          "paper_bgcolor": "white",
          "plot_bgcolor": "#E5ECF6",
          "polar": {
           "angularaxis": {
            "gridcolor": "white",
            "linecolor": "white",
            "ticks": ""
           },
           "bgcolor": "#E5ECF6",
           "radialaxis": {
            "gridcolor": "white",
            "linecolor": "white",
            "ticks": ""
           }
          },
          "scene": {
           "xaxis": {
            "backgroundcolor": "#E5ECF6",
            "gridcolor": "white",
            "gridwidth": 2,
            "linecolor": "white",
            "showbackground": true,
            "ticks": "",
            "zerolinecolor": "white"
           },
           "yaxis": {
            "backgroundcolor": "#E5ECF6",
            "gridcolor": "white",
            "gridwidth": 2,
            "linecolor": "white",
            "showbackground": true,
            "ticks": "",
            "zerolinecolor": "white"
           },
           "zaxis": {
            "backgroundcolor": "#E5ECF6",
            "gridcolor": "white",
            "gridwidth": 2,
            "linecolor": "white",
            "showbackground": true,
            "ticks": "",
            "zerolinecolor": "white"
           }
          },
          "shapedefaults": {
           "line": {
            "color": "#2a3f5f"
           }
          },
          "ternary": {
           "aaxis": {
            "gridcolor": "white",
            "linecolor": "white",
            "ticks": ""
           },
           "baxis": {
            "gridcolor": "white",
            "linecolor": "white",
            "ticks": ""
           },
           "bgcolor": "#E5ECF6",
           "caxis": {
            "gridcolor": "white",
            "linecolor": "white",
            "ticks": ""
           }
          },
          "title": {
           "x": 0.05
          },
          "xaxis": {
           "automargin": true,
           "gridcolor": "white",
           "linecolor": "white",
           "ticks": "",
           "title": {
            "standoff": 15
           },
           "zerolinecolor": "white",
           "zerolinewidth": 2
          },
          "yaxis": {
           "automargin": true,
           "gridcolor": "white",
           "linecolor": "white",
           "ticks": "",
           "title": {
            "standoff": 15
           },
           "zerolinecolor": "white",
           "zerolinewidth": 2
          }
         }
        },
        "title": {
         "text": "Apple Share Prices over time (2014)"
        }
       }
      },
      "text/html": [
       "<div>                            <div id=\"ec5a276b-8c71-4e30-9d9e-583d1970191b\" class=\"plotly-graph-div\" style=\"height:525px; width:100%;\"></div>            <script type=\"text/javascript\">                require([\"plotly\"], function(Plotly) {                    window.PLOTLYENV=window.PLOTLYENV || {};                                    if (document.getElementById(\"ec5a276b-8c71-4e30-9d9e-583d1970191b\")) {                    Plotly.newPlot(                        \"ec5a276b-8c71-4e30-9d9e-583d1970191b\",                        [{\"name\": \"Share Prices (in USD)\", \"type\": \"scatter\", \"x\": [\"152.1.100.22/35\"], \"y\": [\"Testing\"]}],                        {\"plot_bgcolor\": \"rgb(230, 230,230)\", \"showlegend\": true, \"template\": {\"data\": {\"bar\": [{\"error_x\": {\"color\": \"#2a3f5f\"}, \"error_y\": {\"color\": \"#2a3f5f\"}, \"marker\": {\"line\": {\"color\": \"#E5ECF6\", \"width\": 0.5}}, \"type\": \"bar\"}], \"barpolar\": [{\"marker\": {\"line\": {\"color\": \"#E5ECF6\", \"width\": 0.5}}, \"type\": \"barpolar\"}], \"carpet\": [{\"aaxis\": {\"endlinecolor\": \"#2a3f5f\", \"gridcolor\": \"white\", \"linecolor\": \"white\", \"minorgridcolor\": \"white\", \"startlinecolor\": \"#2a3f5f\"}, \"baxis\": {\"endlinecolor\": \"#2a3f5f\", \"gridcolor\": \"white\", \"linecolor\": \"white\", \"minorgridcolor\": \"white\", \"startlinecolor\": \"#2a3f5f\"}, \"type\": \"carpet\"}], \"choropleth\": [{\"colorbar\": {\"outlinewidth\": 0, \"ticks\": \"\"}, \"type\": \"choropleth\"}], \"contour\": [{\"colorbar\": {\"outlinewidth\": 0, \"ticks\": \"\"}, \"colorscale\": [[0.0, \"#0d0887\"], [0.1111111111111111, \"#46039f\"], [0.2222222222222222, \"#7201a8\"], [0.3333333333333333, \"#9c179e\"], [0.4444444444444444, \"#bd3786\"], [0.5555555555555556, \"#d8576b\"], [0.6666666666666666, \"#ed7953\"], [0.7777777777777778, \"#fb9f3a\"], [0.8888888888888888, \"#fdca26\"], [1.0, \"#f0f921\"]], \"type\": \"contour\"}], \"contourcarpet\": [{\"colorbar\": {\"outlinewidth\": 0, \"ticks\": \"\"}, \"type\": \"contourcarpet\"}], \"heatmap\": [{\"colorbar\": {\"outlinewidth\": 0, \"ticks\": \"\"}, \"colorscale\": [[0.0, \"#0d0887\"], [0.1111111111111111, \"#46039f\"], [0.2222222222222222, \"#7201a8\"], [0.3333333333333333, \"#9c179e\"], [0.4444444444444444, \"#bd3786\"], [0.5555555555555556, \"#d8576b\"], [0.6666666666666666, \"#ed7953\"], [0.7777777777777778, \"#fb9f3a\"], [0.8888888888888888, \"#fdca26\"], [1.0, \"#f0f921\"]], \"type\": \"heatmap\"}], \"heatmapgl\": [{\"colorbar\": {\"outlinewidth\": 0, \"ticks\": \"\"}, \"colorscale\": [[0.0, \"#0d0887\"], [0.1111111111111111, \"#46039f\"], [0.2222222222222222, \"#7201a8\"], [0.3333333333333333, \"#9c179e\"], [0.4444444444444444, \"#bd3786\"], [0.5555555555555556, \"#d8576b\"], [0.6666666666666666, \"#ed7953\"], [0.7777777777777778, \"#fb9f3a\"], [0.8888888888888888, \"#fdca26\"], [1.0, \"#f0f921\"]], \"type\": \"heatmapgl\"}], \"histogram\": [{\"marker\": {\"colorbar\": {\"outlinewidth\": 0, \"ticks\": \"\"}}, \"type\": \"histogram\"}], \"histogram2d\": [{\"colorbar\": {\"outlinewidth\": 0, \"ticks\": \"\"}, \"colorscale\": [[0.0, \"#0d0887\"], [0.1111111111111111, \"#46039f\"], [0.2222222222222222, \"#7201a8\"], [0.3333333333333333, \"#9c179e\"], [0.4444444444444444, \"#bd3786\"], [0.5555555555555556, \"#d8576b\"], [0.6666666666666666, \"#ed7953\"], [0.7777777777777778, \"#fb9f3a\"], [0.8888888888888888, \"#fdca26\"], [1.0, \"#f0f921\"]], \"type\": \"histogram2d\"}], \"histogram2dcontour\": [{\"colorbar\": {\"outlinewidth\": 0, \"ticks\": \"\"}, \"colorscale\": [[0.0, \"#0d0887\"], [0.1111111111111111, \"#46039f\"], [0.2222222222222222, \"#7201a8\"], [0.3333333333333333, \"#9c179e\"], [0.4444444444444444, \"#bd3786\"], [0.5555555555555556, \"#d8576b\"], [0.6666666666666666, \"#ed7953\"], [0.7777777777777778, \"#fb9f3a\"], [0.8888888888888888, \"#fdca26\"], [1.0, \"#f0f921\"]], \"type\": \"histogram2dcontour\"}], \"mesh3d\": [{\"colorbar\": {\"outlinewidth\": 0, \"ticks\": \"\"}, \"type\": \"mesh3d\"}], \"parcoords\": [{\"line\": {\"colorbar\": {\"outlinewidth\": 0, \"ticks\": \"\"}}, \"type\": \"parcoords\"}], \"pie\": [{\"automargin\": true, \"type\": \"pie\"}], \"scatter\": [{\"marker\": {\"colorbar\": {\"outlinewidth\": 0, \"ticks\": \"\"}}, \"type\": \"scatter\"}], \"scatter3d\": [{\"line\": {\"colorbar\": {\"outlinewidth\": 0, \"ticks\": \"\"}}, \"marker\": {\"colorbar\": {\"outlinewidth\": 0, \"ticks\": \"\"}}, \"type\": \"scatter3d\"}], \"scattercarpet\": [{\"marker\": {\"colorbar\": {\"outlinewidth\": 0, \"ticks\": \"\"}}, \"type\": \"scattercarpet\"}], \"scattergeo\": [{\"marker\": {\"colorbar\": {\"outlinewidth\": 0, \"ticks\": \"\"}}, \"type\": \"scattergeo\"}], \"scattergl\": [{\"marker\": {\"colorbar\": {\"outlinewidth\": 0, \"ticks\": \"\"}}, \"type\": \"scattergl\"}], \"scattermapbox\": [{\"marker\": {\"colorbar\": {\"outlinewidth\": 0, \"ticks\": \"\"}}, \"type\": \"scattermapbox\"}], \"scatterpolar\": [{\"marker\": {\"colorbar\": {\"outlinewidth\": 0, \"ticks\": \"\"}}, \"type\": \"scatterpolar\"}], \"scatterpolargl\": [{\"marker\": {\"colorbar\": {\"outlinewidth\": 0, \"ticks\": \"\"}}, \"type\": \"scatterpolargl\"}], \"scatterternary\": [{\"marker\": {\"colorbar\": {\"outlinewidth\": 0, \"ticks\": \"\"}}, \"type\": \"scatterternary\"}], \"surface\": [{\"colorbar\": {\"outlinewidth\": 0, \"ticks\": \"\"}, \"colorscale\": [[0.0, \"#0d0887\"], [0.1111111111111111, \"#46039f\"], [0.2222222222222222, \"#7201a8\"], [0.3333333333333333, \"#9c179e\"], [0.4444444444444444, \"#bd3786\"], [0.5555555555555556, \"#d8576b\"], [0.6666666666666666, \"#ed7953\"], [0.7777777777777778, \"#fb9f3a\"], [0.8888888888888888, \"#fdca26\"], [1.0, \"#f0f921\"]], \"type\": \"surface\"}], \"table\": [{\"cells\": {\"fill\": {\"color\": \"#EBF0F8\"}, \"line\": {\"color\": \"white\"}}, \"header\": {\"fill\": {\"color\": \"#C8D4E3\"}, \"line\": {\"color\": \"white\"}}, \"type\": \"table\"}]}, \"layout\": {\"annotationdefaults\": {\"arrowcolor\": \"#2a3f5f\", \"arrowhead\": 0, \"arrowwidth\": 1}, \"autotypenumbers\": \"strict\", \"coloraxis\": {\"colorbar\": {\"outlinewidth\": 0, \"ticks\": \"\"}}, \"colorscale\": {\"diverging\": [[0, \"#8e0152\"], [0.1, \"#c51b7d\"], [0.2, \"#de77ae\"], [0.3, \"#f1b6da\"], [0.4, \"#fde0ef\"], [0.5, \"#f7f7f7\"], [0.6, \"#e6f5d0\"], [0.7, \"#b8e186\"], [0.8, \"#7fbc41\"], [0.9, \"#4d9221\"], [1, \"#276419\"]], \"sequential\": [[0.0, \"#0d0887\"], [0.1111111111111111, \"#46039f\"], [0.2222222222222222, \"#7201a8\"], [0.3333333333333333, \"#9c179e\"], [0.4444444444444444, \"#bd3786\"], [0.5555555555555556, \"#d8576b\"], [0.6666666666666666, \"#ed7953\"], [0.7777777777777778, \"#fb9f3a\"], [0.8888888888888888, \"#fdca26\"], [1.0, \"#f0f921\"]], \"sequentialminus\": [[0.0, \"#0d0887\"], [0.1111111111111111, \"#46039f\"], [0.2222222222222222, \"#7201a8\"], [0.3333333333333333, \"#9c179e\"], [0.4444444444444444, \"#bd3786\"], [0.5555555555555556, \"#d8576b\"], [0.6666666666666666, \"#ed7953\"], [0.7777777777777778, \"#fb9f3a\"], [0.8888888888888888, \"#fdca26\"], [1.0, \"#f0f921\"]]}, \"colorway\": [\"#636efa\", \"#EF553B\", \"#00cc96\", \"#ab63fa\", \"#FFA15A\", \"#19d3f3\", \"#FF6692\", \"#B6E880\", \"#FF97FF\", \"#FECB52\"], \"font\": {\"color\": \"#2a3f5f\"}, \"geo\": {\"bgcolor\": \"white\", \"lakecolor\": \"white\", \"landcolor\": \"#E5ECF6\", \"showlakes\": true, \"showland\": true, \"subunitcolor\": \"white\"}, \"hoverlabel\": {\"align\": \"left\"}, \"hovermode\": \"closest\", \"mapbox\": {\"style\": \"light\"}, \"paper_bgcolor\": \"white\", \"plot_bgcolor\": \"#E5ECF6\", \"polar\": {\"angularaxis\": {\"gridcolor\": \"white\", \"linecolor\": \"white\", \"ticks\": \"\"}, \"bgcolor\": \"#E5ECF6\", \"radialaxis\": {\"gridcolor\": \"white\", \"linecolor\": \"white\", \"ticks\": \"\"}}, \"scene\": {\"xaxis\": {\"backgroundcolor\": \"#E5ECF6\", \"gridcolor\": \"white\", \"gridwidth\": 2, \"linecolor\": \"white\", \"showbackground\": true, \"ticks\": \"\", \"zerolinecolor\": \"white\"}, \"yaxis\": {\"backgroundcolor\": \"#E5ECF6\", \"gridcolor\": \"white\", \"gridwidth\": 2, \"linecolor\": \"white\", \"showbackground\": true, \"ticks\": \"\", \"zerolinecolor\": \"white\"}, \"zaxis\": {\"backgroundcolor\": \"#E5ECF6\", \"gridcolor\": \"white\", \"gridwidth\": 2, \"linecolor\": \"white\", \"showbackground\": true, \"ticks\": \"\", \"zerolinecolor\": \"white\"}}, \"shapedefaults\": {\"line\": {\"color\": \"#2a3f5f\"}}, \"ternary\": {\"aaxis\": {\"gridcolor\": \"white\", \"linecolor\": \"white\", \"ticks\": \"\"}, \"baxis\": {\"gridcolor\": \"white\", \"linecolor\": \"white\", \"ticks\": \"\"}, \"bgcolor\": \"#E5ECF6\", \"caxis\": {\"gridcolor\": \"white\", \"linecolor\": \"white\", \"ticks\": \"\"}}, \"title\": {\"x\": 0.05}, \"xaxis\": {\"automargin\": true, \"gridcolor\": \"white\", \"linecolor\": \"white\", \"ticks\": \"\", \"title\": {\"standoff\": 15}, \"zerolinecolor\": \"white\", \"zerolinewidth\": 2}, \"yaxis\": {\"automargin\": true, \"gridcolor\": \"white\", \"linecolor\": \"white\", \"ticks\": \"\", \"title\": {\"standoff\": 15}, \"zerolinecolor\": \"white\", \"zerolinewidth\": 2}}}, \"title\": {\"text\": \"Apple Share Prices over time (2014)\"}},                        {\"responsive\": true}                    ).then(function(){\n",
       "                            \n",
       "var gd = document.getElementById('ec5a276b-8c71-4e30-9d9e-583d1970191b');\n",
       "var x = new MutationObserver(function (mutations, observer) {{\n",
       "        var display = window.getComputedStyle(gd).display;\n",
       "        if (!display || display === 'none') {{\n",
       "            console.log([gd, 'removed!']);\n",
       "            Plotly.purge(gd);\n",
       "            observer.disconnect();\n",
       "        }}\n",
       "}});\n",
       "\n",
       "// Listen for the removal of the full notebook cells\n",
       "var notebookContainer = gd.closest('#notebook-container');\n",
       "if (notebookContainer) {{\n",
       "    x.observe(notebookContainer, {childList: true});\n",
       "}}\n",
       "\n",
       "// Listen for the clearing of the current output cell\n",
       "var outputEl = gd.closest('.output');\n",
       "if (outputEl) {{\n",
       "    x.observe(outputEl, {childList: true});\n",
       "}}\n",
       "\n",
       "                        })                };                });            </script>        </div>"
      ]
     },
     "metadata": {},
     "output_type": "display_data"
    }
   ],
   "source": []
  },
  {
   "cell_type": "code",
   "execution_count": null,
   "metadata": {},
   "outputs": [],
   "source": []
  }
 ],
 "metadata": {
  "kernelspec": {
   "display_name": "Python 3",
   "language": "python",
   "name": "python3"
  },
  "language_info": {
   "codemirror_mode": {
    "name": "ipython",
    "version": 3
   },
   "file_extension": ".py",
   "mimetype": "text/x-python",
   "name": "python",
   "nbconvert_exporter": "python",
   "pygments_lexer": "ipython3",
   "version": "3.8.6"
  }
 },
 "nbformat": 4,
 "nbformat_minor": 4
}