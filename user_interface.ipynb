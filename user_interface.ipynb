{
 "cells": [
  {
   "cell_type": "markdown",
   "metadata": {},
   "source": [
    "# Arco-IT GmbH MQP User Interface"
   ]
  },
  {
   "cell_type": "markdown",
   "metadata": {
    "pycharm": {
     "name": "#%% md\n"
    }
   },
   "source": [
    "## This user interface will allow the user to:"
   ]
  },
  {
   "cell_type": "markdown",
   "metadata": {},
   "source": [
    "1. Import a data file to be analyzed (CSV)\n",
    "\n",
    "    1a. Have the user select how many rows they wish to see\n",
    "    \n",
    "    1b. Have the user select which rows they would like to omit\n",
    "2. Approve, Deny Specific Traffic\n",
    "3. Generate Rules\n",
    "4. Approve, Deny, or modify generated rules"
   ]
  },
  {
   "cell_type": "code",
   "execution_count": 1,
   "metadata": {
    "pycharm": {
     "name": "#%%\n"
    }
   },
   "outputs": [
    {
     "name": "stdout",
     "output_type": "stream",
     "text": [
      "Welcome to the Arco IT GmbH Official User Interface!\n",
      "--------------------------------------------------------\n",
      "To proceed, please upload a CSV file using the button provided to you.\n"
     ]
    },
    {
     "data": {
      "application/vnd.jupyter.widget-view+json": {
       "model_id": "3b1d368f2a9643859ea78513119711b8",
       "version_major": 2,
       "version_minor": 0
      },
      "text/plain": [
       "HBox(children=(VBox(children=(FileUpload(value={}, accept='.csv', description='Upload CSV'),)),))"
      ]
     },
     "metadata": {},
     "output_type": "display_data"
    }
   ],
   "source": [
    "print(\"Welcome to the Arco IT GmbH Official User Interface!\")\n",
    "print(\"--------------------------------------------------------\")\n",
    "print(\"To proceed, please upload a CSV file using the button provided to you.\")\n",
    "import ipywidgets as widgets\n",
    "from IPython.display import display\n",
    "import pandas as pd\n",
    "\n",
    "#This is where the file upload button will be created\n",
    "upload = widgets.FileUpload(\n",
    "    description = 'Upload CSV',\n",
    "    multiple = False,\n",
    "    accept = '.csv'\n",
    ")\n",
    "\n",
    "#create upper buttons\n",
    "devices_button = widgets.Button(description = 'Devices')\n",
    "classifications_button = widgets.Button(description = 'Classifications')\n",
    "applications_button = widgets.Button(description = 'Applications')\n",
    "rules_button = widgets.Button(description = 'Rules')\n",
    "\n",
    "#display buttons - in a horizontal fashion\n",
    "display(widgets.HBox([widgets.VBox([upload])]))\n",
    "#                      widgets.VBox([devices_button]),\n",
    "#                      widgets.VBox([classifications_button]),\n",
    "#                      widgets.VBox([applications_button]),\n",
    "#                      widgets.VBox([rules_button])]))\n"
   ]
  },
  {
   "cell_type": "code",
   "execution_count": 2,
   "metadata": {},
   "outputs": [],
   "source": [
    "#this takes the resulting dictionary and assigns it to a variable \n",
    "uploaded_file_val = upload.value\n",
    "if(len(uploaded_file_val) == 0):\n",
    "    raise Exception(\"You must input a file\")\n",
    "#show that variable\n",
    "#uploaded_file_val"
   ]
  },
  {
   "cell_type": "code",
   "execution_count": 3,
   "metadata": {},
   "outputs": [],
   "source": [
    "#access whats important\n",
    "file_name = next(iter(uploaded_file_val))\n",
    "#we get the first element in the dictionary\n",
    "uploaded_file_content = uploaded_file_val[file_name]['content']\n",
    "#uploaded_file_content"
   ]
  },
  {
   "cell_type": "code",
   "execution_count": 4,
   "metadata": {},
   "outputs": [],
   "source": [
    "#This gets the number of rows within the CSV\n",
    "with open('inventory_data.csv') as counter:\n",
    "    row_counter_with_header = sum(1 for line in counter)\n",
    "row_counter_without_header = row_counter_with_header-1"
   ]
  },
  {
   "cell_type": "code",
   "execution_count": 5,
   "metadata": {},
   "outputs": [],
   "source": [
    "import codecs\n",
    "#decodes from bytes to list and splits the data accordingly\n",
    "data = uploaded_file_content.decode('utf-8').splitlines()\n",
    "#below line removes quotes from decoding by iterating through list\n",
    "data = [i.replace('\"', ' ') for i in data]\n",
    "#data"
   ]
  },
  {
   "cell_type": "code",
   "execution_count": 6,
   "metadata": {},
   "outputs": [],
   "source": [
    "import csv\n",
    "import re\n",
    "\n",
    "#This creates a csv file within the directory that has the original data\n",
    "with open(\"inventory_data.csv\", \"w\") as csv_file:\n",
    "    writer = csv.writer(csv_file, delimiter = '\\t')\n",
    "    for line in data:\n",
    "        writer.writerow(re.split('\\s+,',line))"
   ]
  },
  {
   "cell_type": "markdown",
   "metadata": {},
   "source": [
    "### There will be an interactive tab system that is configured for you to use with a few tools that will be worthwhile. Each tab represents options for the desired mode, and has tools for those modes."
   ]
  },
  {
   "cell_type": "code",
   "execution_count": 18,
   "metadata": {},
   "outputs": [
    {
     "data": {
      "application/vnd.jupyter.widget-view+json": {
       "model_id": "6e3ac63dceb84b59945b4022187214eb",
       "version_major": 2,
       "version_minor": 0
      },
      "text/plain": [
       "Tab(children=(Accordion(children=(IntSlider(value=1, continuous_update=False, description='Rows:', max=1874, m…"
      ]
     },
     "metadata": {},
     "output_type": "display_data"
    }
   ],
   "source": [
    "#----------------------Device Setup-----------------\n",
    "#This is a slider to select how many rows would like to be displayed\n",
    "slider_result = widgets.IntSlider(\n",
    "    value=1,\n",
    "    min=1,\n",
    "    max=row_counter_without_header, #we have to subtract here to include the header\n",
    "    step=1,\n",
    "    description='Rows:',\n",
    "    disabled=False,\n",
    "    continuous_update=False,\n",
    "    orientation='horizontal',\n",
    "    readout=True,\n",
    "    readout_format='d'\n",
    ")\n",
    "#Creates the button for showing resulting CSV\n",
    "show_csv_button = widgets.Button(description = 'Show CSV')\n",
    "\n",
    "\n",
    "#Creates the text box for row omition\n",
    "deny_list_input = widgets.Textarea(placeholder = \"Separate the row values with commas\",\n",
    "                        description = \"Rows: \",\n",
    "                        disabled = False,\n",
    "                        layout = widgets.Layout(width='auto', height='40px'))#auto adjusts size\n",
    "    \n",
    "#Creates the row drop button\n",
    "drop_rows_button = widgets.Button(description = 'Drop Rows')\n",
    "\n",
    "#generate the button for the graph\n",
    "asset_connection_button = widgets.Button(description = \"Generate Asset Connection Graph\",\n",
    "                                        layout = widgets.Layout(width='auto', height='40px'))\n",
    "#This needs to be put somewhere else\n",
    "#Whats happening is at this point all of the buttons become activated but we need to rerun everything\n",
    "#to get the updated CSV\n",
    "\n",
    "device_accordion_one = widgets.Accordion(children=[slider_result])\n",
    "device_accordion_one.set_title(0, 'Slider For Selecting How Many Rows to View At Once')\n",
    "device_accordion_one\n",
    "\n",
    "#-----------------Classification Setup-----------------------------\n",
    "#Creates the text box for IP Prefix\n",
    "ip_prefix_area = widgets.Textarea(placeholder = \"Input the IP Prefix\",\n",
    "                        description = \"IP Prefix: \",\n",
    "                        disabled = False,\n",
    "                        layout = widgets.Layout(width='auto', height='auto'))#auto adjusts size\n",
    "ip_values = [] #will be used to keep a store of ip's\n",
    "#Creates the text box for Tag Name\n",
    "tag_name_area = widgets.Textarea(placeholder = \"Input the Tag Name\",\n",
    "                        description = \"Name: \",\n",
    "                        disabled = False,\n",
    "                        layout = widgets.Layout(width='auto', height='auto'))#auto adjusts size\n",
    "#Creates the text box for Tag Description\n",
    "tag_description_area = widgets.Textarea(placeholder = \"Input the Tag Description\",\n",
    "                        description = \"Description: \",\n",
    "                        disabled = False,\n",
    "                        layout = widgets.Layout(width='auto', height='auto'))#auto adjusts size\n",
    "row_combo =[]\n",
    "#Creates the row add button\n",
    "add_tag = widgets.Button(description = 'Add')\n",
    "\n",
    "classification_accordion_one = widgets.Accordion(children=[widgets.HBox([widgets.VBox([ip_prefix_area]),\n",
    "                                                                                widgets.VBox([tag_name_area]),\n",
    "                                                                                widgets.VBox([tag_description_area])])])\n",
    "\n",
    "classification_accordion_one.set_title(0, 'Text Boxes for Tag Configuration')\n",
    "classification_accordion_one\n",
    "#-----------------Application Setup-----------------------------\n",
    "#Creates the text box for Port\n",
    "port_area = widgets.Textarea(placeholder = \"Input the Port Number\",\n",
    "                        description = \"Port: \",\n",
    "                        disabled = False,\n",
    "                        layout = widgets.Layout(width='auto', height='auto'))#auto adjusts size\n",
    "#Creates the dropdown for protocol\n",
    "protocol_dropdown = widgets.Dropdown(options = ['TCP', 'UDP'],\n",
    "                                     description = 'Protocol',\n",
    "                                    layout = widgets.Layout(width='auto', height='auto'))\n",
    "                                     \n",
    "#Creates the text box for App Name\n",
    "app_name_area = widgets.Textarea(placeholder = \"Input the Application Name\",\n",
    "                        description = \"Name: \",\n",
    "                        disabled = False,\n",
    "                        layout = widgets.Layout(width='auto', height='auto'))#auto adjusts size\n",
    "#Creates the text box for App Description\n",
    "app_description_area = widgets.Textarea(placeholder = \"Input the Application Description\",\n",
    "                        description = \"Description: \",\n",
    "                        disabled = False,\n",
    "                        layout = widgets.Layout(width='auto', height='auto'))#auto adjusts size\n",
    "#Creates the row add button\n",
    "add_app = widgets.Button(description = 'Add')\n",
    "\n",
    "application_accordion_one = widgets.Accordion(children=[widgets.HBox([widgets.VBox([port_area]),\n",
    "                                                                      widgets.VBox([protocol_dropdown]),\n",
    "                                                                                widgets.VBox([app_name_area]),\n",
    "                                                                                widgets.VBox([app_description_area])])])\n",
    "\n",
    "application_accordion_one.set_title(0, 'Text Boxes for Application Configuration')\n",
    "application_accordion_one\n",
    "\n",
    "#------------------Phase 1 Tab-----------------------------------\n",
    "\n",
    "tab_nest = widgets.Tab()\n",
    "#The line right below this one has placeholders\n",
    "tab_nest.children = [device_accordion_one, classification_accordion_one, application_accordion_one, device_accordion_one]\n",
    "tab_nest.set_title(0, 'Device Options')\n",
    "tab_nest.set_title(1, 'Classification Options')\n",
    "tab_nest.set_title(2, 'Application Options')\n",
    "tab_nest.set_title(3, 'Rule Options')\n",
    "tab_nest\n"
   ]
  },
  {
   "cell_type": "code",
   "execution_count": 8,
   "metadata": {},
   "outputs": [],
   "source": [
    "#------------Creates the CSV for tags------------------\n",
    "header = ['IP-Prefixes', 'Name', 'Description', 'Matched Devices']\n",
    "#ip_values.append(ip_prefix_area.value)\n",
    "#counter = 0\n",
    "#for s in ip_values:\n",
    "#    if(ip_prefix_area == s):\n",
    "#        counter++\n",
    "\n",
    "row_combo.append([ip_prefix_area.value, tag_name_area.value, tag_description_area.value,0])\n",
    "\n",
    "def add_row(a):\n",
    "    with open(\"tag_classifications.csv\", \"w\", newline='') as f:\n",
    "        tag_writer = csv.writer(f, delimiter=',')\n",
    "        tag_writer.writerow(header) # write header\n",
    "        for lines in row_combo:\n",
    "            tag_writer.writerow(lines)\n",
    "    tag_classification_csv = pd.read_csv('tag_classifications.csv')\n",
    "    display(tag_classification_csv)\n",
    "add_tag.on_click(add_row)"
   ]
  },
  {
   "cell_type": "code",
   "execution_count": 9,
   "metadata": {},
   "outputs": [],
   "source": [
    "##This is where we will compare tags to original data"
   ]
  },
  {
   "cell_type": "code",
   "execution_count": 10,
   "metadata": {},
   "outputs": [],
   "source": [
    "original_csv = pd.read_csv('inventory_data.csv', skiprows = range(1,(row_counter_with_header - slider_result.value)))\n",
    "\n",
    "def show_csv(b):\n",
    "    display(original_csv)\n",
    "\n",
    "show_csv_button.on_click(show_csv)\n",
    "#print(\"Use the slider above to select how many rows of data you would like to see then click on the devices button up top.\")"
   ]
  },
  {
   "cell_type": "code",
   "execution_count": 11,
   "metadata": {},
   "outputs": [],
   "source": [
    "#display(drop_rows_button)\n",
    "def drop_rows(a):\n",
    "    if(deny_list[0]==''):\n",
    "        raise Exception(\"This button cannot be used if there is no text input.\")\n",
    "    #drop the selected rows from the dataset\n",
    "    original_csv.drop(original_csv.index[deny_list_ints], inplace = True)\n",
    "    display(original_csv)\n",
    "\n",
    "drop_rows_button.on_click(drop_rows)"
   ]
  },
  {
   "cell_type": "code",
   "execution_count": 12,
   "metadata": {},
   "outputs": [],
   "source": [
    "#This creates another csv file within the directory that has the modified data\n",
    "with open(\"inventory_data.csv\", \"w\") as csv_file:\n",
    "    writer = csv.writer(csv_file, delimiter = '\\t')\n",
    "    for line in data:\n",
    "        writer.writerow(re.split('\\s+,',line))"
   ]
  },
  {
   "cell_type": "code",
   "execution_count": 13,
   "metadata": {},
   "outputs": [],
   "source": [
    "#Imports for connection graph\n",
    "import pandas as pd\n",
    "import networkx as nx\n",
    "import matplotlib.pyplot as plt\n",
    "from matplotlib.axes._axes import _log as matplotlib_axes_logger\n",
    "\n",
    "#display(asset_connection_button)\n",
    "\n",
    "def generate_asset_connection_graph(b):\n",
    "    matplotlib_axes_logger.setLevel('ERROR')\n",
    "\n",
    "    common_port_cutoff = 1024\n",
    "\n",
    "    flow_data = pd.read_csv('sample_data/sample_data.csv', header=0)\n",
    "    ip_data = pd.read_csv('sample_data/ip_inventory.csv', header=0, index_col=0)\n",
    "\n",
    "    def map_ips_to_col(address_name, col_name):\n",
    "        site_list = []\n",
    "        for ip in flow_data[address_name]:\n",
    "            try:\n",
    "                name = ip_data.at[ip, col_name]\n",
    "                site_list.append(name)\n",
    "            except:\n",
    "                site_list.append(pd.NaT)\n",
    "        return pd.DataFrame(site_list, columns=[address_name])\n",
    "\n",
    "    site_a = map_ips_to_col('Address A', 'Plant Area')\n",
    "    site_b = map_ips_to_col('Address B', 'Plant Area')\n",
    "    port_a = flow_data['Port A']\n",
    "    port_b = flow_data['Port B']\n",
    "\n",
    "    data = pd.concat([site_a, port_a, site_b, port_b], 1)\n",
    "    data = data.dropna()\n",
    "\n",
    "    #print('Data loaded')\n",
    "\n",
    "    main_graph = {}\n",
    "    for i, d in data.iterrows():\n",
    "        ports = []\n",
    "        if d['Port A'] <= common_port_cutoff:\n",
    "            ports.append(d['Port A'])\n",
    "        if d['Port B'] <= common_port_cutoff:\n",
    "            ports.append(d['Port B'])\n",
    "        if d['Address A'] in main_graph:\n",
    "            connections = main_graph[d['Address A']]\n",
    "            if d['Address B'] in connections:\n",
    "                used_ports = connections[d['Address B']]\n",
    "                for p in ports:\n",
    "                    if not p in used_ports:\n",
    "                        used_ports.append(p)\n",
    "            elif len(ports) > 0:\n",
    "                connections[d['Address B']] = ports\n",
    "        elif len(ports) > 0:\n",
    "            main_graph[d['Address A']] = {d['Address B']: ports}\n",
    "\n",
    "    #print('Main graph created')\n",
    "\n",
    "    inter_graph = {}\n",
    "    ip_a = flow_data['Address A']\n",
    "    ip_b = flow_data['Address B']\n",
    "    for i in range(site_a.shape[0]):\n",
    "        site_a_i = site_a['Address A'][i]\n",
    "        ports = []\n",
    "        if port_a[i] <= common_port_cutoff:\n",
    "            ports.append(port_a[i])\n",
    "        if port_b[i] <= common_port_cutoff:\n",
    "            ports.append(port_b[i])\n",
    "        if site_a_i == site_b['Address B'][i]:\n",
    "            ip_a_i = ip_a[i]\n",
    "            ip_b_i = ip_b[i]\n",
    "            if site_a_i in inter_graph:\n",
    "                if ip_a_i in inter_graph[site_a_i]:\n",
    "                    if ip_b_i in inter_graph[site_a_i][ip_a_i]:\n",
    "                        used_ports = inter_graph[site_a_i][ip_a_i][ip_b_i]\n",
    "                        for p in ports:\n",
    "                            if not p in used_ports:\n",
    "                                used_ports.append(p)\n",
    "                    elif len(ports) > 0:\n",
    "                        inter_graph[site_a_i][ip_a_i][ip_b_i] = ports\n",
    "                elif len(ports) > 0:\n",
    "                    inter_graph[site_a_i][ip_a_i] = {ip_b_i: ports}\n",
    "            elif len(ports) > 0:\n",
    "                inter_graph[site_a_i] = {ip_a_i: {ip_b_i: ports}}\n",
    "\n",
    "    #print('Internal graphs created')\n",
    "\n",
    "    def formate_node_label(label):\n",
    "        if label == 'Other ProcN Devices':\n",
    "            return 'Other ProcN\\n Devices'\n",
    "        if label == 'EAF Dust Washing':\n",
    "            return 'EAF Dust\\nWashing'\n",
    "        return label\n",
    "\n",
    "    def plot_graph(graph_name, graph, fig_size):\n",
    "        vis_graph = nx.DiGraph()\n",
    "        edge_labels = {}\n",
    "        for k0, v0 in graph.items():\n",
    "            for k1, v1 in v0.items():\n",
    "                if k0 != k1:\n",
    "                    if len(v1) > 0:\n",
    "                        vis_graph.add_edge(k1, k0)\n",
    "                        edge_labels[(k0, k1)] = ', '.join(map(str, v1))\n",
    "\n",
    "        pos = nx.kamada_kawai_layout(vis_graph)\n",
    "        fig = plt.figure(figsize=fig_size, dpi=300)\n",
    "        nx.draw(vis_graph, pos, node_size=5500, node_color=[0.9,0.9,0.9], labels={node:formate_node_label(str(node)) for node in vis_graph.nodes()}, font_size=10, edgecolors='black')\n",
    "        nx.draw_networkx_edge_labels(vis_graph, pos, edge_labels=edge_labels)\n",
    "\n",
    "        plt.savefig('output/asset_connection_' + graph_name + '.png')\n",
    "\n",
    "    plot_graph('Main', main_graph, (9, 9))\n",
    "    #print('Plotted main graph')\n",
    "\n",
    "    for site, connections in inter_graph.items():\n",
    "        plot_graph(site, connections, (7, 7))\n",
    "        #print('Plotted ' + site + ' internal graph')\n",
    "    \n",
    "asset_connection_button.on_click(generate_asset_connection_graph)\n"
   ]
  },
  {
   "cell_type": "markdown",
   "metadata": {},
   "source": [
    "### There have been a few more tools generated:\n",
    " - A button to show the resulting CSV file.\n",
    " - A text box to insert rows that you would like to remove. \n",
    "**Keep in mind, the numbers have to be separated with commas and they follow 0 based indexxing. So, typing 0 into the box aims to eliminate the first row of the CSV, typing 1 aims for the second row, so on and so fourth.**"
   ]
  },
  {
   "cell_type": "code",
   "execution_count": 14,
   "metadata": {},
   "outputs": [
    {
     "data": {
      "application/vnd.jupyter.widget-view+json": {
       "model_id": "ce55da9593a341bbb255edea2c835bdd",
       "version_major": 2,
       "version_minor": 0
      },
      "text/plain": [
       "Tab(children=(Accordion(children=(Button(description='Show CSV', style=ButtonStyle()), Textarea(value='', desc…"
      ]
     },
     "metadata": {},
     "output_type": "display_data"
    }
   ],
   "source": [
    "#------------------Device Setup----------\n",
    "device_accordion_two = widgets.Accordion(children=[show_csv_button, deny_list_input])\n",
    "device_accordion_two.set_title(0, 'Button To Show the Resulting CSV')\n",
    "device_accordion_two.set_title(1, 'Text Box To Remove Rows')\n",
    "device_accordion_two\n",
    "\n",
    "#------------------Classification Setup----------\n",
    "classification_accordion_two = widgets.Accordion(children=[add_tag])\n",
    "\n",
    "classification_accordion_two.set_title(0, 'Button to Add Tag and Show Resulting CSV')\n",
    "classification_accordion_two\n",
    "tab_nest = widgets.Tab()\n",
    "#------------------Application Setup----------\n",
    "application_accordion_two = widgets.Accordion(children=[add_app])\n",
    "\n",
    "application_accordion_two.set_title(0, 'Button to Add Application and Show Resulting CSV')\n",
    "application_accordion_two\n",
    "#-----------------Tab Creation----------------\n",
    "tab_nest = widgets.Tab()\n",
    "#The line right below this one has placeholders\n",
    "tab_nest.children = [device_accordion_two, classification_accordion_two, application_accordion_two, device_accordion_two]\n",
    "tab_nest.set_title(0, 'Device Options')\n",
    "tab_nest.set_title(1, 'Classification Options')\n",
    "tab_nest.set_title(2, 'Application Options')\n",
    "tab_nest.set_title(3, 'Rule Options')\n",
    "tab_nest"
   ]
  },
  {
   "cell_type": "code",
   "execution_count": 15,
   "metadata": {},
   "outputs": [],
   "source": [
    "if(deny_list_input.value!=''):\n",
    "    #separate variables\n",
    "    deny_list = deny_list_input.value.split(\",\")\n",
    "    #convert into integers\n",
    "    deny_list_ints = [int(i) for i in deny_list]\n",
    "    #deny_list_ints #this just shows what the contents are\n",
    "else:\n",
    "    deny_list = deny_list_input.value.split(\",\")\n",
    "    deny_list_ints =[0]"
   ]
  },
  {
   "cell_type": "markdown",
   "metadata": {},
   "source": [
    "### This is the final wave for the device side of things. There a few things here:\n",
    " - A button to drop the selected rows from the previous step\n",
    " - A button to generate an asset connection graph"
   ]
  },
  {
   "cell_type": "code",
   "execution_count": 16,
   "metadata": {},
   "outputs": [
    {
     "data": {
      "application/vnd.jupyter.widget-view+json": {
       "model_id": "7771ab3be1ad4f21b5b713337535af3b",
       "version_major": 2,
       "version_minor": 0
      },
      "text/plain": [
       "Tab(children=(Accordion(children=(Button(description='Drop Rows', style=ButtonStyle()), Button(description='Ge…"
      ]
     },
     "metadata": {},
     "output_type": "display_data"
    }
   ],
   "source": [
    "#because the buttons are created before, the accordion comes after so it can do something\n",
    "device_accordion_three = widgets.Accordion(children=[drop_rows_button, asset_connection_button])\n",
    "device_accordion_three.set_title(0, 'Button to Drop Rows and Show Resulting CSV')\n",
    "device_accordion_three.set_title(1, 'Button for Generating Asset Graph')\n",
    "device_accordion_three\n",
    "tab_nest = widgets.Tab()\n",
    "#The line right below this one has placeholders\n",
    "tab_nest.children = [device_accordion_three]#, device_accordion_three, device_accordion_three, device_accordion_three]\n",
    "tab_nest.set_title(0, 'Device Options')\n",
    "#tab_nest.set_title(1, 'Classification Options')\n",
    "#tab_nest.set_title(2, 'Application Options')\n",
    "#tab_nest.set_title(3, 'Rule Options')\n",
    "tab_nest"
   ]
  },
  {
   "cell_type": "code",
   "execution_count": null,
   "metadata": {},
   "outputs": [],
   "source": []
  },
  {
   "cell_type": "code",
   "execution_count": null,
   "metadata": {},
   "outputs": [],
   "source": []
  }
 ],
 "metadata": {
  "kernelspec": {
   "display_name": "Python 3",
   "language": "python",
   "name": "python3"
  },
  "language_info": {
   "codemirror_mode": {
    "name": "ipython",
    "version": 3
   },
   "file_extension": ".py",
   "mimetype": "text/x-python",
   "name": "python",
   "nbconvert_exporter": "python",
   "pygments_lexer": "ipython3",
   "version": "3.8.6"
  }
 },
 "nbformat": 4,
 "nbformat_minor": 4
}